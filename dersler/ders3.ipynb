{
 "cells": [
  {
   "cell_type": "markdown",
   "metadata": {},
   "source": [
    "# Tekrar Soruları\n",
    "\n",
    "1. Kullanıcıdan dört sayı isteyin. Kullanıcının girdiği sayıları `float` formatına çevirin.\n",
    "   1. Kullanıcının girdiği sayıları sırayla bir listeye yerleştirin. Yani 4 elemanlı tek boyutlu bir listenin elemanlarını kullanıcıya doldurtun. Listeyi ekrana yazdırın.\n",
    "   2. Bu listenin tüm elemanlarının iki katını, `for` döngüsü kullanarak elde edin ve sonucu ekrana yazdırın.\n",
    "   3. Eğer girilen sayılardan en az bir tanesi 5'ten büyükse ekrana `... sayıları 5'ten büyüktür.` yazsın. Burada \"...\" yerine kullanıcının girdiği sayılar yazsın. Aksi taktirde `5'ten büyük sayı girmediniz.` yazsın.\n",
    "2. Bir liste oluşturun ve o listenin elemanları `4, 8, 15, 16, 23, 42` olsun. `for` döngüsü ve `.append()` fonksiyonu kullanarak listenin sonuna 1'den 80'a kadar sayılar ekleyin. Elde ettiğiniz yeni listenin adı `yeniListe` olsun.\n",
    "   1. Bilgilendirme: `[3,7]` listesinin birinci elemanı `7`'dir. `yeniListe` listenin birinci, beşinci ve son elemanını ekrana yazdırın.\n",
    "   2. `yeniListe` listesinin son beş elemanını ekrana yazdırın.\n",
    "   3. `yeniListe` listesinin son elli elemanının toplamını ekrana yazdırın. \n",
    "   4. `yeniListe` listesinin son elli elemanının çarpımını ekrana yazdırın.\n",
    "   5. `yeniListe` listesindeki tüm çift elemanları yerine `True`, tüm tek elemanları yerine `False` yazın.\n",
    "   6. `yeniListe` listesinin elemanlarını alt alta olacak şekilde `yeniListe.txt` dosyasına yazdırın.\n",
    "3.  1'den 4242 sayısına kadar olan tüm sayıları toplayın. Sonu ekrana yazdırın.\n",
    "4.  1'den 4242 sayısına kadar olan tüm çift sayıları toplayın. Ekrana yazdırın.\n",
    "5.  1'den 89'a kadar (89 dahil) olan tüm sayıları `for` döngüsünü kullanarak ekrana yazdıran bir betik yazın. Bu döngü, 18'de duracak şekilde olsun.\n",
    "6.  Bir fonksiyon yazın. Bu fonksiyon ekrana sadece `Naber Dünyalı?` yazdırsın.\n",
    "7.  Bir fonksiyon yazın. Bu fonksiyon ekrana `Merhaba Dünyalı. Ben 100'a kadar saymayı biliyorum.` yazsın ardından ekrana 0'dan 100'e kadar (100 dahil) tüm sayıları yazdırsın.\n",
    "8.  Bir fonksiyon yazın. Bu fonksyion bir adet değişkeni alsın (Ör. `fonksiyon1(sayi)`) ve karesini geri döndürsün.\n",
    "9.  Bir fonksiyon yazın. Bu fonksiyon bir adet değişkeni alsın. `a sayısının kübü ...` yazsın ve kübünü geri döndürsün. Burada \"a\" fonksiyonun aldığı değişken ve \"...\" o değişkenin kübü olacaktır.\n",
    "10. Bir fonksiyon yazın. Bu fonksiyon iki adet değişken alsın. Birinci değişkenden ikinci değişkene kadar olan tüm sayıların toplamını ekrana yazdırsın ve değerini döndürsün.\n",
    "11. Bir fonksiyon yazın. Bu fonksiyon bir adet değişken alsın. Girilen değişken $x^2-1=0$ denkleminin çözümü ise `True` değil ise `False` döndürsün.\n",
    "12. Bir fonksiyon yazın. Bu fonksiyon beş adet değişken alsın. Bu değişkenler bir cismin uzay-zaman koordinatları **x,y,z,t** ve x eksenine göre göreli (rölatif) **hızı** olsun. Eğer hız değişkenin değeri ışık hızından büyükse ekrana bunun mümkün olamayacağını yazsın. Eğer hız değişkeni ışık hızından küçükse, uzay-zaman koordinatlarının yere göre (duran gözlemci) ne olacağını hesaplasın ve yeni koordinatları ekrana yazdırsın. Bunun için [Lorentz Dönüşümünü](https://tr.wikipedia.org/wiki/Lorentz_d%C3%B6n%C3%BC%C5%9F%C3%BCm%C3%BC) kullanmanız gerekir. Buna ek olarak fonksiyon Galileo Dönüşümüne göre ne olacağını da hesaplasın ve ekrana yazdırsın. Fonksiyon, Lorentz dönüşümü ile elde ettiğiniz yeni uzay-zaman koordinatlarını döndürsün."
   ]
  },
  {
   "cell_type": "markdown",
   "metadata": {},
   "source": [
    "# Modüller - `math`, `cmath` ve `numpy`\n",
    "\n",
    "## `math` Modülü\n",
    "\n",
    "Basit matematiksel işlemleri ve sabitleri betiğe çağırmak için `import math as mt` komutunu yazmak gerekir. Bu komutla `math` modülündeki her fonksiyonu ve değişkeni `mt` isimlendirmesi ile çağırabiliriz.\n",
    "\n",
    "`math` modülü python dilinin standart kütüphanesidir. Yani python dilini bilgisayarınıza kurduğunuzda bu modülü de bilgisayarınıza kurmuş olursunuz. \n",
    "\n",
    "`math` modülünün içerisindekilere tüm fonksiyonlara ve değişkenlere erişmek için lütfen bu modülün [websitesini](https://docs.python.org/3/library/math.html) ziyaret ediniz. Betik içerisinden de `print(dir(mt))` komutu yardımıyla bakabilirsiniz."
   ]
  },
  {
   "cell_type": "code",
   "execution_count": 1,
   "metadata": {},
   "outputs": [
    {
     "name": "stdout",
     "output_type": "stream",
     "text": [
      "['__doc__', '__loader__', '__name__', '__package__', '__spec__', 'acos', 'acosh', 'asin', 'asinh', 'atan', 'atan2', 'atanh', 'ceil', 'comb', 'copysign', 'cos', 'cosh', 'degrees', 'dist', 'e', 'erf', 'erfc', 'exp', 'expm1', 'fabs', 'factorial', 'floor', 'fmod', 'frexp', 'fsum', 'gamma', 'gcd', 'hypot', 'inf', 'isclose', 'isfinite', 'isinf', 'isnan', 'isqrt', 'lcm', 'ldexp', 'lgamma', 'log', 'log10', 'log1p', 'log2', 'modf', 'nan', 'nextafter', 'perm', 'pi', 'pow', 'prod', 'radians', 'remainder', 'sin', 'sinh', 'sqrt', 'tan', 'tanh', 'tau', 'trunc', 'ulp']\n"
     ]
    }
   ],
   "source": [
    "import math as mt\n",
    "print(dir(mt)) # math modülünün içindeki fonksiyonları/değişkenleri listeler"
   ]
  },
  {
   "cell_type": "markdown",
   "metadata": {},
   "source": [
    "**Önemli**: `sin` gibi açi değişkeni ile çalışan fonksiyonlar, aksi belirtilmedikçe **radyan** birimi ile çalışır."
   ]
  },
  {
   "cell_type": "code",
   "execution_count": 3,
   "metadata": {},
   "outputs": [
    {
     "name": "stdout",
     "output_type": "stream",
     "text": [
      "3.141592653589793\n",
      "1.0\n",
      "1.0\n",
      "0.9999996829318346\n"
     ]
    }
   ],
   "source": [
    "# ÖRNEKLER\n",
    "\n",
    "print(mt.pi) # pi sayısını yazdırır\n",
    "print(mt.cos(0)) # cos(0) fonksiyonunu hesaplar\n",
    "print(mt.sin(mt.pi/ 2)) # sin(0) fonksiyonunu hesaplar\n",
    "print(mt.sin(3.14/ 2)) # sin(3.14) fonksiyonunu hesaplar"
   ]
  },
  {
   "cell_type": "markdown",
   "metadata": {},
   "source": [
    "## `cmath` Modülü\n",
    "`cmath` modülü, sanal sayı değişkenleri ile çalışabilen `math` modülündeki fonksiyonlarına sahiptir. Ek olarak açıları polar koordinatlara çevirme gibi fonksiyonlara da sahiptir. Ayrıntılı dökümantasyonu için [websitesini](https://docs.python.org/3/library/cmath.html) ziyaret ediniz.\n",
    "\n",
    "Tıpkı `math` modülü gibi `cmath` de python dilinin standart kütüphanesidir.\n",
    "\n",
    "İçeriğini görmek için `dir()` fonksiyonunu ile bakalım."
   ]
  },
  {
   "cell_type": "code",
   "execution_count": 4,
   "metadata": {},
   "outputs": [
    {
     "name": "stdout",
     "output_type": "stream",
     "text": [
      "['__doc__', '__loader__', '__name__', '__package__', '__spec__', 'acos', 'acosh', 'asin', 'asinh', 'atan', 'atanh', 'cos', 'cosh', 'e', 'exp', 'inf', 'infj', 'isclose', 'isfinite', 'isinf', 'isnan', 'log', 'log10', 'nan', 'nanj', 'phase', 'pi', 'polar', 'rect', 'sin', 'sinh', 'sqrt', 'tan', 'tanh', 'tau']\n"
     ]
    }
   ],
   "source": [
    "import cmath as cmt\n",
    "print(dir(cmt)) # cmath modülünün içindeki fonksiyonları/değişkenleri listeler"
   ]
  },
  {
   "cell_type": "code",
   "execution_count": 5,
   "metadata": {},
   "outputs": [
    {
     "name": "stdout",
     "output_type": "stream",
     "text": [
      "(5.0, 0.6435011087932844)\n",
      "0.6435011087932844\n",
      "(4+3j)\n"
     ]
    }
   ],
   "source": [
    "# ÖRNEKLER\n",
    "print(cmt.polar(4+3j)) # 4+3j sayısının polar koordinatlarını hesaplar. (r, theta)\n",
    "print(cmt.phase(4+3j)) # 4+3j sayısının theta değerini hesaplar\n",
    "print(cmt.rect(5, 0.6435011087932844)) # 5 ve 0.9272952180016122 değerlerinin karşılığı olan (x,y) sayısını hesaplar"
   ]
  },
  {
   "cell_type": "markdown",
   "metadata": {},
   "source": [
    "## `numpy` Modülü\n",
    "\n",
    "`numpy` modülü, matematiksel işlemleri ve veri analizi için kullanılan bir modüldür. Bu modülü kullanmak için `import numpy as np` komutunu yazmak gerekir. Bu komutla `numpy` modülündeki her fonksiyonu ve değişkeni `np` isimlendirmesi ile çağırabiliriz.\n",
    "\n",
    "> **Dikkat**: `numpy` modülü standart bir modül değildir. Yani bu modülü çağırmak için öncelikle bilgisayarınıza kurmanız gerekir. Bu modülü kurmak için `pip3 install numpy` komutunu kullanabilirsiniz.\n",
    "\n",
    "Bu derste bir modül `np` olarak adlandırılmışsa numpy modülüne ait olduğunu anlayabilirsiniz."
   ]
  },
  {
   "cell_type": "code",
   "execution_count": 6,
   "metadata": {},
   "outputs": [
    {
     "name": "stdout",
     "output_type": "stream",
     "text": [
      "['ALLOW_THREADS', 'BUFSIZE', 'CLIP', 'DataSource', 'ERR_CALL', 'ERR_DEFAULT', 'ERR_IGNORE', 'ERR_LOG', 'ERR_PRINT', 'ERR_RAISE', 'ERR_WARN', 'FLOATING_POINT_SUPPORT', 'FPE_DIVIDEBYZERO', 'FPE_INVALID', 'FPE_OVERFLOW', 'FPE_UNDERFLOW', 'False_', 'Inf', 'Infinity', 'MAXDIMS', 'MAY_SHARE_BOUNDS', 'MAY_SHARE_EXACT', 'NAN', 'NINF', 'NZERO', 'NaN', 'PINF', 'PZERO', 'RAISE', 'RankWarning', 'SHIFT_DIVIDEBYZERO', 'SHIFT_INVALID', 'SHIFT_OVERFLOW', 'SHIFT_UNDERFLOW', 'ScalarType', 'True_', 'UFUNC_BUFSIZE_DEFAULT', 'UFUNC_PYVALS_NAME', 'WRAP', '_CopyMode', '_NoValue', '_UFUNC_API', '__NUMPY_SETUP__', '__all__', '__builtins__', '__cached__', '__config__', '__deprecated_attrs__', '__dir__', '__doc__', '__expired_functions__', '__file__', '__former_attrs__', '__future_scalars__', '__getattr__', '__git_version__', '__loader__', '__name__', '__package__', '__path__', '__spec__', '__version__', '_add_newdoc_ufunc', '_builtins', '_distributor_init', '_financial_names', '_get_promotion_state', '_globals', '_int_extended_msg', '_mat', '_no_nep50_warning', '_pyinstaller_hooks_dir', '_pytesttester', '_set_promotion_state', '_specific_msg', '_typing', '_using_numpy2_behavior', '_utils', '_version', 'abs', 'absolute', 'add', 'add_docstring', 'add_newdoc', 'add_newdoc_ufunc', 'all', 'allclose', 'alltrue', 'amax', 'amin', 'angle', 'any', 'append', 'apply_along_axis', 'apply_over_axes', 'arange', 'arccos', 'arccosh', 'arcsin', 'arcsinh', 'arctan', 'arctan2', 'arctanh', 'argmax', 'argmin', 'argpartition', 'argsort', 'argwhere', 'around', 'array', 'array2string', 'array_equal', 'array_equiv', 'array_repr', 'array_split', 'array_str', 'asanyarray', 'asarray', 'asarray_chkfinite', 'ascontiguousarray', 'asfarray', 'asfortranarray', 'asmatrix', 'atleast_1d', 'atleast_2d', 'atleast_3d', 'average', 'bartlett', 'base_repr', 'binary_repr', 'bincount', 'bitwise_and', 'bitwise_not', 'bitwise_or', 'bitwise_xor', 'blackman', 'block', 'bmat', 'bool_', 'broadcast', 'broadcast_arrays', 'broadcast_shapes', 'broadcast_to', 'busday_count', 'busday_offset', 'busdaycalendar', 'byte', 'byte_bounds', 'bytes_', 'c_', 'can_cast', 'cast', 'cbrt', 'cdouble', 'ceil', 'cfloat', 'char', 'character', 'chararray', 'choose', 'clip', 'clongdouble', 'clongfloat', 'column_stack', 'common_type', 'compare_chararrays', 'compat', 'complex128', 'complex256', 'complex64', 'complex_', 'complexfloating', 'compress', 'concatenate', 'conj', 'conjugate', 'convolve', 'copy', 'copysign', 'copyto', 'corrcoef', 'correlate', 'cos', 'cosh', 'count_nonzero', 'cov', 'cross', 'csingle', 'ctypeslib', 'cumprod', 'cumproduct', 'cumsum', 'datetime64', 'datetime_as_string', 'datetime_data', 'deg2rad', 'degrees', 'delete', 'deprecate', 'deprecate_with_doc', 'diag', 'diag_indices', 'diag_indices_from', 'diagflat', 'diagonal', 'diff', 'digitize', 'disp', 'divide', 'divmod', 'dot', 'double', 'dsplit', 'dstack', 'dtype', 'dtypes', 'e', 'ediff1d', 'einsum', 'einsum_path', 'emath', 'empty', 'empty_like', 'equal', 'errstate', 'euler_gamma', 'exceptions', 'exp', 'exp2', 'expand_dims', 'expm1', 'extract', 'eye', 'fabs', 'fastCopyAndTranspose', 'fft', 'fill_diagonal', 'find_common_type', 'finfo', 'fix', 'flatiter', 'flatnonzero', 'flexible', 'flip', 'fliplr', 'flipud', 'float128', 'float16', 'float32', 'float64', 'float_', 'float_power', 'floating', 'floor', 'floor_divide', 'fmax', 'fmin', 'fmod', 'format_float_positional', 'format_float_scientific', 'format_parser', 'frexp', 'from_dlpack', 'frombuffer', 'fromfile', 'fromfunction', 'fromiter', 'frompyfunc', 'fromregex', 'fromstring', 'full', 'full_like', 'gcd', 'generic', 'genfromtxt', 'geomspace', 'get_array_wrap', 'get_include', 'get_printoptions', 'getbufsize', 'geterr', 'geterrcall', 'geterrobj', 'gradient', 'greater', 'greater_equal', 'half', 'hamming', 'hanning', 'heaviside', 'histogram', 'histogram2d', 'histogram_bin_edges', 'histogramdd', 'hsplit', 'hstack', 'hypot', 'i0', 'identity', 'iinfo', 'imag', 'in1d', 'index_exp', 'indices', 'inexact', 'inf', 'info', 'infty', 'inner', 'insert', 'int16', 'int32', 'int64', 'int8', 'int_', 'intc', 'integer', 'interp', 'intersect1d', 'intp', 'invert', 'is_busday', 'isclose', 'iscomplex', 'iscomplexobj', 'isfinite', 'isfortran', 'isin', 'isinf', 'isnan', 'isnat', 'isneginf', 'isposinf', 'isreal', 'isrealobj', 'isscalar', 'issctype', 'issubclass_', 'issubdtype', 'issubsctype', 'iterable', 'ix_', 'kaiser', 'kernel_version', 'kron', 'lcm', 'ldexp', 'left_shift', 'less', 'less_equal', 'lexsort', 'lib', 'linalg', 'linspace', 'little_endian', 'load', 'loadtxt', 'log', 'log10', 'log1p', 'log2', 'logaddexp', 'logaddexp2', 'logical_and', 'logical_not', 'logical_or', 'logical_xor', 'logspace', 'longcomplex', 'longdouble', 'longfloat', 'longlong', 'lookfor', 'ma', 'mask_indices', 'mat', 'matmul', 'matrix', 'max', 'maximum', 'maximum_sctype', 'may_share_memory', 'mean', 'median', 'memmap', 'meshgrid', 'mgrid', 'min', 'min_scalar_type', 'minimum', 'mintypecode', 'mod', 'modf', 'moveaxis', 'msort', 'multiply', 'nan', 'nan_to_num', 'nanargmax', 'nanargmin', 'nancumprod', 'nancumsum', 'nanmax', 'nanmean', 'nanmedian', 'nanmin', 'nanpercentile', 'nanprod', 'nanquantile', 'nanstd', 'nansum', 'nanvar', 'nbytes', 'ndarray', 'ndenumerate', 'ndim', 'ndindex', 'nditer', 'negative', 'nested_iters', 'newaxis', 'nextafter', 'nonzero', 'not_equal', 'numarray', 'number', 'obj2sctype', 'object_', 'ogrid', 'oldnumeric', 'ones', 'ones_like', 'outer', 'packbits', 'pad', 'partition', 'percentile', 'pi', 'piecewise', 'place', 'poly', 'poly1d', 'polyadd', 'polyder', 'polydiv', 'polyfit', 'polyint', 'polymul', 'polynomial', 'polysub', 'polyval', 'positive', 'power', 'printoptions', 'prod', 'product', 'promote_types', 'ptp', 'put', 'put_along_axis', 'putmask', 'quantile', 'r_', 'rad2deg', 'radians', 'random', 'ravel', 'ravel_multi_index', 'real', 'real_if_close', 'rec', 'recarray', 'recfromcsv', 'recfromtxt', 'reciprocal', 'record', 'remainder', 'repeat', 'require', 'reshape', 'resize', 'result_type', 'right_shift', 'rint', 'roll', 'rollaxis', 'roots', 'rot90', 'round', 'round_', 'row_stack', 's_', 'safe_eval', 'save', 'savetxt', 'savez', 'savez_compressed', 'sctype2char', 'sctypeDict', 'sctypes', 'searchsorted', 'select', 'set_numeric_ops', 'set_printoptions', 'set_string_function', 'setbufsize', 'setdiff1d', 'seterr', 'seterrcall', 'seterrobj', 'setxor1d', 'shape', 'shares_memory', 'short', 'show_config', 'show_runtime', 'sign', 'signbit', 'signedinteger', 'sin', 'sinc', 'single', 'singlecomplex', 'sinh', 'size', 'sometrue', 'sort', 'sort_complex', 'source', 'spacing', 'split', 'sqrt', 'square', 'squeeze', 'stack', 'std', 'str_', 'string_', 'subtract', 'sum', 'swapaxes', 'take', 'take_along_axis', 'tan', 'tanh', 'tensordot', 'test', 'testing', 'tile', 'timedelta64', 'trace', 'tracemalloc_domain', 'transpose', 'trapz', 'tri', 'tril', 'tril_indices', 'tril_indices_from', 'trim_zeros', 'triu', 'triu_indices', 'triu_indices_from', 'true_divide', 'trunc', 'typecodes', 'typename', 'ubyte', 'ufunc', 'uint', 'uint16', 'uint32', 'uint64', 'uint8', 'uintc', 'uintp', 'ulonglong', 'unicode_', 'union1d', 'unique', 'unpackbits', 'unravel_index', 'unsignedinteger', 'unwrap', 'ushort', 'vander', 'var', 'vdot', 'vectorize', 'version', 'void', 'vsplit', 'vstack', 'where', 'who', 'zeros', 'zeros_like']\n",
      "['LinAlgError', '__all__', '__builtins__', '__cached__', '__doc__', '__file__', '__loader__', '__name__', '__package__', '__path__', '__spec__', '_umath_linalg', 'cholesky', 'cond', 'det', 'eig', 'eigh', 'eigvals', 'eigvalsh', 'inv', 'linalg', 'lstsq', 'matrix_power', 'matrix_rank', 'multi_dot', 'norm', 'pinv', 'qr', 'slogdet', 'solve', 'svd', 'tensorinv', 'tensorsolve', 'test']\n"
     ]
    }
   ],
   "source": [
    "import numpy as np\n",
    "print(dir(np)) # numpy modülünün içindeki fonksiyonları/değişkenleri listeler\n",
    "print(dir(np.linalg)) # numpy/linalg modülünün içindeki fonksiyonları/değişkenleri listeler"
   ]
  },
  {
   "cell_type": "markdown",
   "metadata": {},
   "source": [
    "### Numpy Arrayler (Diziler)\n",
    "\n",
    "Arrayler (diziler) `numpy` modülünün temel veri yapısıdır. Arrayler, \"genellikle\" birbirine benzer verileri tutmak için kullanılır.\n",
    "\n",
    "Arrayler ile ilgili bazı temel kavramlar gibidir:\n",
    "1. Numpy arrayi oluşturmak için `np.array()` fonksiyonunu kullanırız. Bu fonksiyonun içerisine bir liste veya tuple veririz. Bu fonksiyon bize bir array döndürür.\n",
    "   - **Bir boyutlu array:** `np.array([1,2,3,4,5])`\n",
    "   - **İki boyutlu array veya MATRIX:** `np.array([[1,2,3],[4,5,6],[7,8,9]])`\n",
    "3. **Boyut**: Bir boyutlu arrayler için kaç elemanlı olduğu, iki boyutlu arrayler için arrayin içerisinde kaç tane array olduğunu ve eleman sayısını belirtir."
   ]
  },
  {
   "cell_type": "markdown",
   "metadata": {},
   "source": [
    "### Numpy Arraylerinin Oluşturulması"
   ]
  },
  {
   "cell_type": "code",
   "execution_count": 7,
   "metadata": {},
   "outputs": [
    {
     "name": "stdout",
     "output_type": "stream",
     "text": [
      "1 Boyutlu Arrayin Elemanlarını Yazarak Oluşturma\n",
      "[ 1  2  3  4  5  6  7  8  9 10]\n"
     ]
    }
   ],
   "source": [
    "import numpy as np\n",
    "\n",
    "# ÖRNEKLER\n",
    "print('1 Boyutlu Arrayin Elemanlarını Yazarak Oluşturma')\n",
    "arr1d= np.array([1,2,3,4,5,6,7,8,9,10])\n",
    "print(arr1d)"
   ]
  },
  {
   "cell_type": "code",
   "execution_count": 8,
   "metadata": {},
   "outputs": [
    {
     "name": "stdout",
     "output_type": "stream",
     "text": [
      "1 Boyutlu, n Tane Sıfırdan Oluşan Array Oluşturma\n",
      "[0. 0. 0. 0. 0. 0. 0. 0. 0. 0.]\n"
     ]
    }
   ],
   "source": [
    "print('1 Boyutlu, n Tane Sıfırdan Oluşan Array Oluşturma')\n",
    "arr1d= np.zeros(10)\n",
    "print(arr1d)"
   ]
  },
  {
   "cell_type": "code",
   "execution_count": 11,
   "metadata": {},
   "outputs": [
    {
     "name": "stdout",
     "output_type": "stream",
     "text": [
      "1 Boyutlu, n Tane Birden Oluşan Array Oluşturma\n",
      "[1. 1. 1. 1. 1. 1. 1. 1. 1. 1.]\n"
     ]
    }
   ],
   "source": [
    "print('1 Boyutlu, n Tane Birden Oluşan Array Oluşturma')\n",
    "arr1d= np.ones(10)\n",
    "print(arr1d)"
   ]
  },
  {
   "cell_type": "code",
   "execution_count": 12,
   "metadata": {},
   "outputs": [
    {
     "name": "stdout",
     "output_type": "stream",
     "text": [
      "1 Boyutlu, Sıfırdan Başlayıp n'e kadar Sayılardan Array Oluşturma\n",
      "[0 1 2 3 4 5 6 7 8 9]\n"
     ]
    }
   ],
   "source": [
    "print(\"1 Boyutlu, Sıfırdan Başlayıp n'e kadar Sayılardan Array Oluşturma\")\n",
    "arr1d= np.arange(10)\n",
    "print(arr1d)\n",
    "# np.arange(2,10)   2'den başlayıp 10'a kadar sayılar\n",
    "# np.arange(2,10,2) 2'den başlayıp 10'a kadar 2'şer 2'şer sayılar"
   ]
  },
  {
   "cell_type": "code",
   "execution_count": 13,
   "metadata": {},
   "outputs": [
    {
     "name": "stdout",
     "output_type": "stream",
     "text": [
      "2 Boyutlu Arrayin Elemanlarını Yazarak Oluşturma\n",
      "[[1 2 3]\n",
      " [4 5 6]\n",
      " [7 8 9]]\n"
     ]
    }
   ],
   "source": [
    "print('2 Boyutlu Arrayin Elemanlarını Yazarak Oluşturma')\n",
    "arr2d= np.array([[1,2,3],[4,5,6],[7,8,9]])\n",
    "print(arr2d)"
   ]
  },
  {
   "cell_type": "code",
   "execution_count": 16,
   "metadata": {},
   "outputs": [
    {
     "name": "stdout",
     "output_type": "stream",
     "text": [
      "2 Boyutlu, n Tane Sıfırdan Oluşan Array Oluşturma\n",
      "[[0. 0. 0.]\n",
      " [0. 0. 0.]\n",
      " [0. 0. 0.]]\n"
     ]
    }
   ],
   "source": [
    "print('2 Boyutlu, n Tane Sıfırdan Oluşan Array Oluşturma')\n",
    "arr2d= np.zeros((3,3))\n",
    "print(arr2d)"
   ]
  },
  {
   "cell_type": "code",
   "execution_count": 17,
   "metadata": {},
   "outputs": [
    {
     "name": "stdout",
     "output_type": "stream",
     "text": [
      "2 Boyutlu, n Tane Birden Oluşan Array Oluşturma\n",
      "[[1. 1. 1.]\n",
      " [1. 1. 1.]\n",
      " [1. 1. 1.]]\n"
     ]
    }
   ],
   "source": [
    "print('2 Boyutlu, n Tane Birden Oluşan Array Oluşturma')\n",
    "arr2d= np.ones((3,3))\n",
    "print(arr2d)"
   ]
  },
  {
   "cell_type": "code",
   "execution_count": 21,
   "metadata": {},
   "outputs": [
    {
     "name": "stdout",
     "output_type": "stream",
     "text": [
      "2 Boyutlu, n x n Boyttlu Birim Matris\n",
      "[[1. 0. 0.]\n",
      " [0. 1. 0.]\n",
      " [0. 0. 1.]]\n"
     ]
    }
   ],
   "source": [
    "print('2 Boyutlu, n x n Boyttlu Birim Matris')\n",
    "arr2d= np.eye(3)\n",
    "#print(arr2d)\n",
    "print(np.identity(3))"
   ]
  },
  {
   "cell_type": "code",
   "execution_count": 22,
   "metadata": {},
   "outputs": [
    {
     "name": "stdout",
     "output_type": "stream",
     "text": [
      "Arrayin Boyutunu Öğrenme\n",
      "(3, 7)\n",
      "(3, 7)\n"
     ]
    }
   ],
   "source": [
    "print('Arrayin Boyutunu Öğrenme')\n",
    "arr2d= np.ones((3,7))\n",
    "print(arr2d.shape)\n",
    "print(np.shape(arr2d))"
   ]
  },
  {
   "cell_type": "markdown",
   "metadata": {},
   "source": [
    "Öğrendiğimiz fonksiyonlar:\n",
    "\n",
    "1. `np.array()`, array oluşturma, \n",
    "2. `np.zeros()`, sıfırlardan bir array oluşturma,\n",
    "3. `np.ones()`, birlerden bir array oluşturma,\n",
    "4. `np.eye()`, birim matris oluşturma,\n",
    "5. `np.identity()`, birim matris oluşturma,\n",
    "6. `np.shape()`, arrayin bouyutunu öğrenme"
   ]
  },
  {
   "cell_type": "markdown",
   "metadata": {},
   "source": [
    "## Ara Alıştırma\n",
    "\n",
    "1. Birinci satırı `1,2` ve ikinci satırı `3,4` olan bir matris oluşturun ve ekrana yazdırın.\n",
    "1. Tüm elemanları `0` olan 8x3 boyutunda bir matris oluşturun ve ekrana yazdırın.\n",
    "2. Tüm elemanları `1` olan 7x7 boyutunda bir matris oluşturun ve ekrana yazdırın.\n",
    "3. 3x3 boyutunda bir birim matris oluşturun ve ekrana yazdırın.\n",
    "4. Yukarıda yazdığınız tüm arraylerin tüm matrislerin kaç boyutlu olduğunu bulun ve ekrana yazdırın."
   ]
  },
  {
   "cell_type": "markdown",
   "metadata": {},
   "source": [
    "### Numpy Arraylerinin Elemanlarına Erişim"
   ]
  },
  {
   "cell_type": "code",
   "execution_count": 23,
   "metadata": {},
   "outputs": [
    {
     "name": "stdout",
     "output_type": "stream",
     "text": [
      "[[1 2 3]\n",
      " [4 5 6]\n",
      " [7 8 9]]\n"
     ]
    }
   ],
   "source": [
    "# 2 Boyutlu Arrayin Elemanlarını Yazarak Oluşturma\n",
    "arr2d= np.array([[1,2,3],[4,5,6],[7,8,9]])\n",
    "print(arr2d)"
   ]
  },
  {
   "cell_type": "code",
   "execution_count": 24,
   "metadata": {},
   "outputs": [
    {
     "name": "stdout",
     "output_type": "stream",
     "text": [
      "arr2d[0,0]: 1\n"
     ]
    }
   ],
   "source": [
    "arr2d= np.array([[1,2,3],[4,5,6],[7,8,9]])\n",
    "print(f'arr2d[0,0]: {arr2d[0,0]}') # 0. satır, 0. sütun"
   ]
  },
  {
   "cell_type": "code",
   "execution_count": 25,
   "metadata": {},
   "outputs": [
    {
     "name": "stdout",
     "output_type": "stream",
     "text": [
      "arr2d[0,1]: 2\n"
     ]
    }
   ],
   "source": [
    "arr2d= np.array([[1,2,3],[4,5,6],[7,8,9]])\n",
    "print(f'arr2d[0,1]: {arr2d[0,1]}') # 0. satır, 1. sütun"
   ]
  },
  {
   "cell_type": "code",
   "execution_count": 26,
   "metadata": {},
   "outputs": [
    {
     "name": "stdout",
     "output_type": "stream",
     "text": [
      "arr2d[:,0]: [1 4 7]\n"
     ]
    }
   ],
   "source": [
    "arr2d= np.array([[1,2,3],[4,5,6],[7,8,9]])\n",
    "print(f'arr2d[:,0]: {arr2d[:,0]}') # Tüm satırlar, 0. sütun"
   ]
  },
  {
   "cell_type": "code",
   "execution_count": 28,
   "metadata": {},
   "outputs": [
    {
     "name": "stdout",
     "output_type": "stream",
     "text": [
      "arr2d[0,:]: [1 2 3]\n",
      "arr2d[0,:]: [1 2 3]\n"
     ]
    }
   ],
   "source": [
    "arr2d= np.array([[1,2,3],[4,5,6],[7,8,9]])\n",
    "print(f'arr2d[0,:]: {arr2d[0,:]}') # 0. satır, Tüm sütunlar\n",
    "print(f'arr2d[0,:]: {arr2d[0]}') # 0. satır, Tüm sütunlar"
   ]
  },
  {
   "cell_type": "code",
   "execution_count": 31,
   "metadata": {},
   "outputs": [
    {
     "name": "stdout",
     "output_type": "stream",
     "text": [
      "arr2d[0,0:2]: [1 2]\n",
      "arr2d[0,0:2]: [1 3]\n"
     ]
    }
   ],
   "source": [
    "arr2d= np.array([[1,2,3],[4,5,6],[7,8,9]])\n",
    "print(f'arr2d[0,0:2]: {arr2d[0,0:2]}') # 0. satır, 0. ve 2. sütunlar\n",
    "#print(f'arr2d[0,0:2]: {arr2d[0,[0,2]]}') # 0. satır, 0. ve 2. sütunlar"
   ]
  },
  {
   "cell_type": "code",
   "execution_count": 32,
   "metadata": {},
   "outputs": [
    {
     "name": "stdout",
     "output_type": "stream",
     "text": [
      "arr2d[0:2,0:2]:\n",
      " [[1 2]\n",
      " [4 5]]\n"
     ]
    }
   ],
   "source": [
    "arr2d= np.array([[1,2,3],[4,5,6],[7,8,9]])\n",
    "print(f'arr2d[0:2,0:2]:\\n {arr2d[0:2,0:2]}') # 1. ve 2. satırlar, 1. ve 2. sütunlar"
   ]
  },
  {
   "cell_type": "code",
   "execution_count": 33,
   "metadata": {},
   "outputs": [
    {
     "name": "stdout",
     "output_type": "stream",
     "text": [
      "[[1 2 3]\n",
      " [4 5 6]\n",
      " [7 8 9]]\n",
      "arr2d'birinci satırı değişti:\n",
      " [[10 11 12]\n",
      " [ 4  5  6]\n",
      " [ 7  8  9]]\n"
     ]
    }
   ],
   "source": [
    "arr2d= np.array([[1,2,3],[4,5,6],[7,8,9]])\n",
    "print(arr2d)\n",
    "arr2d[0]= [10,11,12]\n",
    "print(f\"arr2d'birinci satırı değişti:\\n {arr2d}\") # 1. satırı değişti."
   ]
  },
  {
   "cell_type": "markdown",
   "metadata": {},
   "source": [
    "### Numpy Arrayleri ile Matematiksel İşlemler"
   ]
  },
  {
   "cell_type": "code",
   "execution_count": 34,
   "metadata": {},
   "outputs": [
    {
     "name": "stdout",
     "output_type": "stream",
     "text": [
      "arr2d:\n",
      " [[1 2 3]\n",
      " [4 5 6]\n",
      " [7 8 9]]\n"
     ]
    }
   ],
   "source": [
    "# 2 Boyutlu Arrayin Elemanlarını Yazarak Oluşturma\n",
    "arr2d= np.array([[1,2,3],[4,5,6],[7,8,9]])\n",
    "print(f'arr2d:\\n {arr2d}')"
   ]
  },
  {
   "cell_type": "code",
   "execution_count": 37,
   "metadata": {},
   "outputs": [
    {
     "name": "stdout",
     "output_type": "stream",
     "text": [
      "arr2d*2 :\n",
      " [[ 2  4  6]\n",
      " [ 8 10 12]\n",
      " [14 16 18]]\n",
      "[0, 1, 2, 0, 1, 2]\n"
     ]
    }
   ],
   "source": [
    "# Çarpma İşlemi\n",
    "arr2d= np.array([[1,2,3],[4,5,6],[7,8,9]])\n",
    "print(f'arr2d*2 :\\n {arr2d*2}') # Tüm elemanları 2 ile çarpar\n",
    "#print(list(range(3))*2)"
   ]
  },
  {
   "cell_type": "code",
   "execution_count": 38,
   "metadata": {},
   "outputs": [
    {
     "name": "stdout",
     "output_type": "stream",
     "text": [
      "arr2d+2 :\n",
      " [[ 3  4  5]\n",
      " [ 6  7  8]\n",
      " [ 9 10 11]]\n"
     ]
    }
   ],
   "source": [
    "# Toplama İşlemi\n",
    "arr2d= np.array([[1,2,3],[4,5,6],[7,8,9]])\n",
    "print(f'arr2d+2 :\\n {arr2d+2}') # Tüm elemanlara 2 ekler"
   ]
  },
  {
   "cell_type": "code",
   "execution_count": 39,
   "metadata": {},
   "outputs": [
    {
     "name": "stdout",
     "output_type": "stream",
     "text": [
      "arr2d-2 :\n",
      " [[-1  0  1]\n",
      " [ 2  3  4]\n",
      " [ 5  6  7]]\n"
     ]
    }
   ],
   "source": [
    "# Çıkarma İşlemi\n",
    "arr2d= np.array([[1,2,3],[4,5,6],[7,8,9]])\n",
    "print(f'arr2d-2 :\\n {arr2d-2}') # Tüm elemanlardan 2 çıkarır"
   ]
  },
  {
   "cell_type": "code",
   "execution_count": 40,
   "metadata": {},
   "outputs": [
    {
     "name": "stdout",
     "output_type": "stream",
     "text": [
      "arr2d/2 :\n",
      " [[0.5 1.  1.5]\n",
      " [2.  2.5 3. ]\n",
      " [3.5 4.  4.5]]\n"
     ]
    }
   ],
   "source": [
    "# Bölme İşlemi\n",
    "arr2d= np.array([[1,2,3],[4,5,6],[7,8,9]])\n",
    "print(f'arr2d/2 :\\n {arr2d/2}') # Tüm elemanları 2'ye böler"
   ]
  },
  {
   "cell_type": "code",
   "execution_count": 41,
   "metadata": {},
   "outputs": [
    {
     "name": "stdout",
     "output_type": "stream",
     "text": [
      "arr2d**2 :\n",
      " [[ 1  4  9]\n",
      " [16 25 36]\n",
      " [49 64 81]]\n"
     ]
    }
   ],
   "source": [
    "# Üs Alma İşlemi\n",
    "arr2d= np.array([[1,2,3],[4,5,6],[7,8,9]])\n",
    "print(f'arr2d**2 :\\n {arr2d**2}') # Tüm elemanları karesini alır"
   ]
  },
  {
   "cell_type": "code",
   "execution_count": 42,
   "metadata": {},
   "outputs": [
    {
     "name": "stdout",
     "output_type": "stream",
     "text": [
      "np.sqrt(arr2d) :\n",
      " [[1.         1.41421356 1.73205081]\n",
      " [2.         2.23606798 2.44948974]\n",
      " [2.64575131 2.82842712 3.        ]]\n"
     ]
    }
   ],
   "source": [
    "# Karekök Alma İşlemi\n",
    "arr2d= np.array([[1,2,3],[4,5,6],[7,8,9]])\n",
    "print(f'np.sqrt(arr2d) :\\n {np.sqrt(arr2d)}') # Tüm elemanların karekökünü alır"
   ]
  },
  {
   "cell_type": "code",
   "execution_count": 43,
   "metadata": {},
   "outputs": [
    {
     "name": "stdout",
     "output_type": "stream",
     "text": [
      "np.exp(arr2d) :\n",
      " [[2.71828183e+00 7.38905610e+00 2.00855369e+01]\n",
      " [5.45981500e+01 1.48413159e+02 4.03428793e+02]\n",
      " [1.09663316e+03 2.98095799e+03 8.10308393e+03]]\n"
     ]
    }
   ],
   "source": [
    "# Eksponansiyelini Alma İşlemi\n",
    "arr2d= np.array([[1,2,3],[4,5,6],[7,8,9]])\n",
    "print(f'np.exp(arr2d) :\\n {np.exp(arr2d)}') # Tüm elemanların üslü sayısını alır"
   ]
  },
  {
   "cell_type": "code",
   "execution_count": 44,
   "metadata": {},
   "outputs": [
    {
     "name": "stdout",
     "output_type": "stream",
     "text": [
      "np.log(arr2d) :\n",
      " [[0.         0.69314718 1.09861229]\n",
      " [1.38629436 1.60943791 1.79175947]\n",
      " [1.94591015 2.07944154 2.19722458]]\n"
     ]
    }
   ],
   "source": [
    "# Logaritma Alma İşlemi\n",
    "arr2d= np.array([[1,2,3],[4,5,6],[7,8,9]])\n",
    "print(f'np.log(arr2d) :\\n {np.log(arr2d)}') # Tüm elemanların logaritmasını alır"
   ]
  },
  {
   "cell_type": "code",
   "execution_count": 45,
   "metadata": {},
   "outputs": [
    {
     "name": "stdout",
     "output_type": "stream",
     "text": [
      "np.sin(arr2d) :\n",
      " [[ 0.84147098  0.90929743  0.14112001]\n",
      " [-0.7568025  -0.95892427 -0.2794155 ]\n",
      " [ 0.6569866   0.98935825  0.41211849]]\n"
     ]
    }
   ],
   "source": [
    "# Sinüs Alma İşlemi (Radyan)\n",
    "arr2d= np.array([[1,2,3],[4,5,6],[7,8,9]])\n",
    "print(f'np.sin(arr2d) :\\n {np.sin(arr2d)}') # Tüm elemanların sinüsünü alır"
   ]
  },
  {
   "cell_type": "code",
   "execution_count": 46,
   "metadata": {},
   "outputs": [
    {
     "name": "stdout",
     "output_type": "stream",
     "text": [
      "np.sinh(arr2d) :\n",
      " [[1.17520119e+00 3.62686041e+00 1.00178749e+01]\n",
      " [2.72899172e+01 7.42032106e+01 2.01713157e+02]\n",
      " [5.48316123e+02 1.49047883e+03 4.05154190e+03]]\n"
     ]
    }
   ],
   "source": [
    "# Sinüs Hiperbolik Alma İşlemi (Radyan)\n",
    "arr2d= np.array([[1,2,3],[4,5,6],[7,8,9]])\n",
    "print(f'np.sinh(arr2d) :\\n {np.sinh(arr2d)}') # Tüm elemanların sinüs hiperboliklerini alır"
   ]
  },
  {
   "cell_type": "markdown",
   "metadata": {},
   "source": [
    "### Numpy Arrayleri (Matrisleri) ile İllgili Bazı Fonksiyonlar"
   ]
  },
  {
   "cell_type": "code",
   "execution_count": 47,
   "metadata": {},
   "outputs": [
    {
     "name": "stdout",
     "output_type": "stream",
     "text": [
      "arr2d:\n",
      " [[1 2 3]\n",
      " [4 5 6]\n",
      " [7 8 9]]\n"
     ]
    }
   ],
   "source": [
    "# 2 Boyutlu Arrayin Elemanlarını Yazarak Oluşturma\n",
    "arr2d= np.array([[1,2,3],[4,5,6],[7,8,9]])\n",
    "print(f'arr2d:\\n {arr2d}')"
   ]
  },
  {
   "cell_type": "code",
   "execution_count": 51,
   "metadata": {},
   "outputs": [
    {
     "name": "stdout",
     "output_type": "stream",
     "text": [
      "arr2d.diagonal(1) :\n",
      " [1 5 9]\n",
      "<class 'numpy.ndarray'>\n"
     ]
    }
   ],
   "source": [
    "# Köşegen Elemanları\n",
    "arr2d= np.array([[1,2,3],[4,5,6],[7,8,9]])\n",
    "#print(f'arr2d.diagonal() :\\n{arr2d.diagonal()}')\n",
    "print(f'arr2d.diagonal(1) :\\n', np.diag(arr2d))  # Diagonal elemanları yazdırır\n",
    "#print(type(np.diag(arr2d)))"
   ]
  },
  {
   "cell_type": "code",
   "execution_count": 53,
   "metadata": {},
   "outputs": [
    {
     "name": "stdout",
     "output_type": "stream",
     "text": [
      "arr2d.trace() :\n",
      "15\n"
     ]
    }
   ],
   "source": [
    "# İzi (trace)\n",
    "arr2d= np.array([[1,2,3],[4,5,6],[7,8,9]])\n",
    "#print(f'arr2d.trace() :\\n{arr2d.trace()}') # Diagonal elemanların toplamını yazdırır\n",
    "print(f'arr2d.trace() :\\n{np.trace(arr2d)}') # Diagonal elemanların toplamını yazdırır"
   ]
  },
  {
   "cell_type": "code",
   "execution_count": 54,
   "metadata": {},
   "outputs": [
    {
     "name": "stdout",
     "output_type": "stream",
     "text": [
      "arr2d.T :\n",
      "[[1 4 7]\n",
      " [2 5 8]\n",
      " [3 6 9]]\n"
     ]
    }
   ],
   "source": [
    "# Transpoz\n",
    "arr2d= np.array([[1,2,3],[4,5,6],[7,8,9]])\n",
    "#print(f'arr2d.T :\\n{arr2d.T}') # Transpozunu alır\n",
    "print(f'arr2d.T :\\n{np.transpose(arr2d)}') # Transpozunu alır"
   ]
  },
  {
   "cell_type": "markdown",
   "metadata": {},
   "source": [
    "### Numpy Arraylerinin İşlemleri"
   ]
  },
  {
   "cell_type": "code",
   "execution_count": 55,
   "metadata": {},
   "outputs": [
    {
     "name": "stdout",
     "output_type": "stream",
     "text": [
      "arr2d_1:\n",
      "[[1 2 3]\n",
      " [4 5 6]\n",
      " [7 8 9]]\n",
      "arr2d_2:\n",
      "[[10 11 12]\n",
      " [13 14 15]\n",
      " [16 17 18]]\n"
     ]
    }
   ],
   "source": [
    "# 2 Boyutlu Arrayin Elemanlarını Yazarak Oluşturma\n",
    "arr2d_1= np.array([[1,2,3],[4,5,6],[7,8,9]])\n",
    "arr2d_2= np.array([[10,11,12],[13,14,15],[16,17,18]])\n",
    "print(f'arr2d_1:\\n{arr2d_1}')   \n",
    "print(f'arr2d_2:\\n{arr2d_2}')"
   ]
  },
  {
   "cell_type": "code",
   "execution_count": 56,
   "metadata": {},
   "outputs": [
    {
     "name": "stdout",
     "output_type": "stream",
     "text": [
      "arr2d_1*arr2d_2:\n",
      "[[ 10  22  36]\n",
      " [ 52  70  90]\n",
      " [112 136 162]]\n"
     ]
    }
   ],
   "source": [
    "# İki Matrisi Yıldız (*) İle Çarpma\n",
    "print(f'arr2d_1*arr2d_2:\\n{arr2d_1*arr2d_2}') # İki matrisi eleman eleman çarpar"
   ]
  },
  {
   "cell_type": "code",
   "execution_count": 57,
   "metadata": {},
   "outputs": [
    {
     "name": "stdout",
     "output_type": "stream",
     "text": [
      "arr2d_1 @ arr2d_2:\n",
      "[[ 84  90  96]\n",
      " [201 216 231]\n",
      " [318 342 366]]\n"
     ]
    }
   ],
   "source": [
    "# İki Matrisi Matrisi Çarpımı ile Çarpma\n",
    "arr2d_1= np.array([[1,2,3],[4,5,6],[7,8,9]])\n",
    "arr2d_2= np.array([[10,11,12],[13,14,15],[16,17,18]])\n",
    "print(f'arr2d_1 @ arr2d_2:\\n{arr2d_1 @ arr2d_2}') # İki matrisi matris çarpımı ile çarpar"
   ]
  },
  {
   "cell_type": "code",
   "execution_count": 58,
   "metadata": {},
   "outputs": [
    {
     "name": "stdout",
     "output_type": "stream",
     "text": [
      "arr1d_1:\n",
      "[1 2 3]\n",
      "arr1d_1 @ arr2d_1:\n",
      "[30 36 42]\n"
     ]
    }
   ],
   "source": [
    "# Bir Satır Vektörü ile Matrisi Çarpma\n",
    "arr1d_1= np.array([1,2,3])\n",
    "arr2d_1= np.array([[1,2,3],[4,5,6],[7,8,9]])\n",
    "print(f'arr1d_1:\\n{arr1d_1}')\n",
    "print(f'arr1d_1 @ arr2d_1:\\n{arr1d_1 @ arr2d_1}') # Bir satır vektörü ile bir sütun vektörü çarpar"
   ]
  },
  {
   "cell_type": "markdown",
   "metadata": {},
   "source": [
    "## MODULLER ARA ALIŞTIRMA\n",
    "1. Bir boyutlu arrayler\n",
    "   1. 80'den 250'ye (250 dahil değil) kadar sayıları ikişer ikişer giden bir array oluşturunuz ve ekrana yazdırınız. Bu arrayin adı `arr1d_1` olsun.\n",
    "   2. Bu arrayin elemanlarının toplamını `np.sum()` fonksiyonu ile bulunuz ve ekrana yazdırınız.\n",
    "   3. Bu arrayin elemanlarının ortalamasını `np.mean()` fonksiyonu ile bulunuz ve ekrana yazdırınız.\n",
    "   4. Bu arrayin elemanlarının toplamını `for` döngüsü kullanarak bulunuz ve ekrana yazdırınız.\n",
    "2. İki boyutlu arrayler\n",
    "   1. 1 ile 100 arasındaki sayıları 10x10'luk bir matris haline getiriniz ve ekrana yazdırınız. Bu matrisin adı `arr2d_1` olsun.\n",
    "   2. Bu matrisin elemanlarının toplamını `np.sum()` fonksiyonu ile bulunuz ve ekrana yazdırınız.\n",
    "   3. Bu matrisin elemanlarının toplamını `for` döngüsü kullanarak bulunuz ve ekrana yazdırınız.\n",
    "3. Bir boyutlu ve iki boyutlu arraylerde matematiksel işlemler\n",
    "   1. Sadece 2'lerden oluşan 3 elemanlı bir boyutlu array oluşturunuz ve ekrana yazdırınız. Bu arrayin adı `arr1d_2` olsun. \n",
    "   2. 1'den 6'ya kadar olan sayıları ile 3x2'lük bir matris oluşturunuz ve ekrana yazdırınız. Bu matrisin adı `arr2d_2` olsun.\n",
    "   3. `arr1d_2` arrayinin boyutunu ekrana yazdırınız.\n",
    "   4. `arr2d_2` matrisinin boyutunu ekrana yazdırınız.\n",
    "   5. Bu iki arrayin matris çarpımını yapınız ve ekrana yazdırınız.\n",
    "4. Bir boyutlu sütun array (**Vektör**)\n",
    "   1. Bir boyutlu, elemanları 1'den 3'e kadar olan sütun array oluşturunuz ve ekrana yazdırınız. Bu arrayin adı `vec_1` olsun.\n",
    "   2. 1'den 6'ya kadar olan sayıları ile 2x3'lük bir matris oluşturunuz ve ekrana yazdırınız. Bu matrisin adı `arr2d_3` olsun.\n",
    "   3. Bu iki arrayin matris çarpımını yapınız ve ekrana yazdırınız."
   ]
  },
  {
   "cell_type": "markdown",
   "metadata": {},
   "source": [
    "## `matplotlib` Modülü\n",
    "\n",
    "`matplotlib` modülü en temelde python programlama dilini kullanarak çizim yapılmasına olanak kılan modüldür. İki boyutlu, üç boyutlu veya animasyon yapma gibi birçok fonksiyonu bulunsa da bu ders boyunca çoğunlukla iki boyutlu grafik çizimek için kullanacağız.\n",
    "\n",
    "`matplotlib` modülü python'un standart bir paketi değildir ve ekstra yüklenmesi gerekmektedir.\n",
    "\n",
    "Bu ders boyunca `matplotlib` modülünü `plt` ismiyle kullanacağız. Bu isimlendirme `matplotlib` modülünün genel olarak kullanılan bir isimlendirme şeklidir.\n",
    "\n",
    "Ayrıntılı bilgi için [matplotlib](https://matplotlib.org/) sitesine bakabilirsiniz."
   ]
  },
  {
   "cell_type": "code",
   "execution_count": 59,
   "metadata": {},
   "outputs": [
    {
     "data": {
      "image/png": "[encoded data removed]",
      "text/plain": [
       "<Figure size 640x480 with 1 Axes>"
      ]
     },
     "metadata": {},
     "output_type": "display_data"
    }
   ],
   "source": [
    "import numpy as np\n",
    "import matplotlib.pyplot as plt\n",
    "\n",
    "# Örnek\n",
    "xAxis = np.arange(0, 6.2, 0.2) # 0'dan 6.2'ye kadar 0.2'şer artan bir dizi\n",
    "yAxis_1 = np.sin(xAxis) # sinüsü alınmış bir dizi\n",
    "yAxis_2 = np.cos(xAxis) # cosinüsü alınmış bir dizi\n",
    "\n",
    "# Çizim\n",
    "plt.plot(xAxis, yAxis_1, 'r', label='sin(x)') # 'r' Kırmızı\n",
    "plt.plot(xAxis, yAxis_2, 'k', label='cos(x)') # 'k' Siyah\n",
    "plt.legend() # etiketleri göster\n",
    "plt.show() # çizimi göster\n",
    "plt.close() # çizimi kapat"
   ]
  },
  {
   "cell_type": "markdown",
   "metadata": {},
   "source": [
    "## `matplotlib.pyplot` Modülündeki Bazı Fonksiyonlar ve Özellikler\n",
    "\n",
    "`matplotlib.pyplot` modülü içerisindeki bazı fonksiyonlar ve özellikler aşağıdaki gibidir.\n",
    "\n",
    "1. `plt.plot()`: Çizim yapmak için kullanılır. \n",
    "   1. `plt.plot(xAxis, yAxis)`: `xAxis` ve `yAxis` değerlerini kullanarak çizim yapar.\n",
    "   2. `plt.plot(xAxis, yAxis, 'r')`: `r` parametresi çizimin rengini kırmızı yapar. Temel renkler: `r` (kırmızı), `g` (yeşil), `b` (mavi), `c` (turkuaz), `m` (mor), `y` (sarı), `k` (siyah).\n",
    "   3. `plt.plot(xAxis, yAxis, 'r', label='line1')`:  `label` parametresi çizimin ismini belirler.\n",
    "   4. `plt.plot(xAxis, yAxis, 'r', label='line1', linewidth=2)`: `linewidth` parametresi çizimin kalınlığını belirler.\n",
    "   5. `plt.plot(xAxis, yAxis, 'r', label='line1', linewidth=2, marker='o')`: `marker` parametresi çizimin noktalarını belirler. Temel nokta tipleri: `o` (daire), `s` (kare), `^` (üçgen), `*` (yıldız), `+` (artı), `x` (çarpı).\n",
    "   6. `plt.plot(xAxis, yAxis, 'r', label='line1', linewidth=2, linestyle='--')`: `linestyle` parametresi çizimin çizgi tipini belirler. Temel çizgi tipleri: `--` (kesikli), `:` (noktalı), `-` (kesizsiz), `-.` (kesikli-noktalı).\n",
    "2. `plt.xlabel('Uzaklık [km]')`: `xAxis` ismini belirlemek için kullanılır.\n",
    "3. `plt.ylabel('Hız [km/s]')`: `yAxis` ismini belirlemek için kullanılır.\n",
    "4. `plt.title('Hız-Zaman Grafiği')`: Grafiğin başlığını belirlemek için kullanılır.\n",
    "5. `plt.legend()`: Çizimlerin isimlerini belirlemek için kullanılır.\n",
    "6. `plt.grid()`: Çizimlerin arka planına ızgara çizmek için kullanılır.\n",
    "7. `plt.show()`: Çizimleri göstermek için kullanılır.\n",
    "8. `plt.savefig('hiz-zaman.png')`: Çizimleri kaydetmek için kullanılır. `hiz-zaman.png` dosyası çalıştırılan dizinde oluşturulur.\n",
    "9. `plt.xscale('log')`: `xAxis` değerlerinin logaritmik ölçekte gösterilmesini sağlar.\n",
    "10. `plt.yscale('log')`: `yAxis` değerlerinin logaritmik ölçekte gösterilmesini sağlar.\n",
    "11. `plt.xlim(0, 100)`: `xAxis` değerlerinin 0 ile 100 arasında gösterilmesini sağlar.\n",
    "12. `plt.ylim(0, 100)`: `yAxis` değerlerinin 0 ile 100 arasında gösterilmesini sağlar."
   ]
  },
  {
   "cell_type": "markdown",
   "metadata": {},
   "source": [
    "# Matplotlib Ara Alıştırma\n",
    "\n",
    "1. `polinom1` adında `x` değişkeni ile çalışan bir fonksiyon oluşturun.\n",
    "2. `polinom1` fonksiyonu $x^{2}-1$ değerini döndürsün.\n",
    "3. Fonksiyon tanımlamasını bitirdikten sonra `if __name__ == '__main__':` bloğu yaratın. **ÖNEMLİ:** Artık her çalıştırılabilir dosyada bu bloğu kullanacağız.\n",
    "4. `if __name__ == '__main__':` bloğu içerisinde `xAxis` değişkeni için -3 ile 3 arasında 1000 adet değer oluşturun.\n",
    "5. Bu `xAxis` değişkeni için `polinom1` fonksiyonunu çağırın ve dönen sonucu `yAxis` değişkenine atayın.\n",
    "6. `xAxis` ve `yAxis` değerlerini kullanarak grafik çizin.\n",
    "7. Çizdiğiniz grafikte `xAxis` ve `yAxis` isimlerini belirleyin.\n",
    "8. Arkaplan ızgarasını çizin.\n",
    "9. Bu grafiği kapatın.\n",
    "10. Yeni bir grafik çizdirin. Bu grafik için `xAxis` ve `yAxis` değerlerini kullansın ama bu kesikli cizgi seklinde olsun.\n",
    "11. Yeni grafiği `polinom1.png` dosyası olarak kaydedin.\n",
    "12. Bu grafiği kapatın."
   ]
  }
 ],
 "metadata": {
  "kernelspec": {
   "display_name": "Python 3",
   "language": "python",
   "name": "python3"
  },
  "language_info": {
   "codemirror_mode": {
    "name": "ipython",
    "version": 3
   },
   "file_extension": ".py",
   "mimetype": "text/x-python",
   "name": "python",
   "nbconvert_exporter": "python",
   "pygments_lexer": "ipython3",
   "version": "3.10.12"
  },
  "vscode": {
   "interpreter": {
    "hash": "31f2aee4e71d21fbe5cf8b01ff0e069b9275f58929596ceb00d14d90e3e16cd6"
   }
  }
 },
 "nbformat": 4,
 "nbformat_minor": 2
}
