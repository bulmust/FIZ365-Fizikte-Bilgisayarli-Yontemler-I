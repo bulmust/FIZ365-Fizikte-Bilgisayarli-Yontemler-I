{
 "cells": [
  {
   "cell_type": "markdown",
   "metadata": {},
   "source": [
    "# Doğrusal Denklem Sistemleri"
   ]
  },
  {
   "cell_type": "markdown",
   "metadata": {},
   "source": [
    "## Notasyon\n",
    "\n",
    "İki bilinmeyenli basit bir denklem alalım.\n",
    "\n",
    "$$\n",
    "4x + 7y =6\\\\\n",
    "2x+3y= 1\n",
    "$$\n",
    "\n",
    "Bu denklemi daha da genelleştirelim.\n",
    "\n",
    "$$\n",
    "A_{11}~x_{1} + A_{12}~x_{2}= b_{1}\\\\\n",
    "A_{21}~x_{1} + A_{22}~x_{2}= b_{2}\n",
    "$$\n",
    "\n",
    "Burada bilinmeyenler $x_{1}$ ve $x_{2}$ elemanlarıdır ve bu vektöre **çözüm vektörü**. $A_{ij}$ ise katsayı matrisininin elemanları ve $b_{i}$ ise sonuç vektörüdür. Bu denklemi matris şeklinde yazabiliriz.\n",
    "\n",
    "$$\n",
    "\\begin{bmatrix} 4 & 7\\\\2 & 3 \\end{bmatrix} \\begin{bmatrix}    x_{1}\\\\x_{2}    \\end{bmatrix}= \\begin{bmatrix}    6 \\\\ 1    \\end{bmatrix} \\rightarrow \\begin{bmatrix} A_{11} & A_{12}\\\\A_{21} & A_{22} \\end{bmatrix} \\begin{bmatrix}    x_{1}\\\\x_{2}    \\end{bmatrix}= \\begin{bmatrix}    b_{1} \\\\ b_{2}    \\end{bmatrix} \n",
    "$$"
   ]
  },
  {
   "cell_type": "markdown",
   "metadata": {},
   "source": [
    "Bu matris denklemini ayrıca aşağıdaki gibi de yazabiliriz.\n",
    "\n",
    "$$\n",
    "A \\vec{x} = \\vec{b}\n",
    "$$"
   ]
  },
  {
   "cell_type": "markdown",
   "metadata": {},
   "source": [
    "Katsayı matrisinin determinantı aşağıdaki gibi gösterilir.\n",
    "\n",
    "$$\n",
    "|A| \\qquad \\text{ veya } \\qquad det(A) \n",
    "$$"
   ]
  },
  {
   "cell_type": "markdown",
   "metadata": {},
   "source": [
    "Katsayı matrisinin tersi aşağıdaki gibi gösterilir.\n",
    "\n",
    "$$\n",
    "A^{-1} \\qquad \\text{ veya } \\qquad inv(A) \n",
    "$$"
   ]
  },
  {
   "cell_type": "markdown",
   "metadata": {},
   "source": [
    ">  Çözüm vektörü ve sonuç vektörleri matris de olabilir."
   ]
  },
  {
   "cell_type": "markdown",
   "metadata": {},
   "source": [
    "## Çözümün Tekliği ve Durumu\n",
    "\n",
    "- Eğer $n$ tane denklem ve $n$ adet bilinmeyen varsa çözüm biricik (unique) *olabilir.*\n",
    "- Çözümün tek olabilmesi için $det(A)\\ne 0$ şartı sağlanmalıdır.\n",
    "- Çözüm tek ise satır ve sütunlar birbirinin katı veya kombinasyonu olamaz.\n",
    "\n",
    "Yukarıdaki şartları sağlayan denklemlere **doğrusal bağımsız** adı verilir.\n",
    "\n",
    "### Örnek\n",
    "\n",
    "Aşağıdaki denklem doğrusal bağımlıdır. Ayrıca katsayı matrisinin determinantı da 0'a eşittir.\n",
    "\n",
    "$$\n",
    "2x_{1} + x_{2} =3\\\\\n",
    "4x_{1} + 2x_{2} =6\n",
    "$$\n",
    "\n",
    "### Örnek\n",
    "\n",
    "Aşağıdaki denklem doğrusal bağımsızdır ve $|A|\\ne 0$ bağıntısına sahiptir.\n",
    "\n",
    "$$\n",
    "4x_{1}+7x_{2}=6\\\\\n",
    "2x_{1}+3x_{2}=1\n",
    "$$"
   ]
  },
  {
   "cell_type": "markdown",
   "metadata": {},
   "source": [
    "Bir denklem sisteminin katsayı matrisinin determinantı ne kadar 0'dan büyükse, o kadar **güzel koşulludur** (well-conditioned.) Güzel koşullunun tersi, yani determinantı 0'a yakın olan sistemlere ise **kötü koşullu** (ill-conditined.) adı verilir.\n",
    "\n",
    "### Örnek\n",
    "\n",
    "Aşağıdaki iki denklem sistemi, kötü koşulluluğa örnektir.\n",
    "\n",
    "$$\n",
    "2x_{1} + x_{2} = 3\\\\\n",
    "2x_{1} + 1.0001x_{2}=0\n",
    "$$\n",
    "\n",
    "Bu sistemde katsayı matrisinin determinantı $|A|=0.002$. Denklem sisteminin çözümü ise \n",
    "\n",
    "$$\n",
    "\\begin{bmatrix}    x_{1}\\\\x_{2}    \\end{bmatrix}= \\begin{bmatrix}    1501.5\\\\-3000    \\end{bmatrix}\n",
    "$$\n",
    "\n",
    "Bir başka denklem ele alalım.\n",
    "\n",
    "$$\n",
    "2x_{1} + x_{2} = 3\\\\\n",
    "2x_{1} + 1.0002x_{2}=0\n",
    "$$\n",
    "\n",
    "Bu sistemde katsayı matrisinin determinantı $|A|=0.004$ Denklem sisteminin çözümü ise \n",
    "\n",
    "$$\n",
    "\\begin{bmatrix}    x_{1}\\\\x_{2}    \\end{bmatrix}= \\begin{bmatrix}    751.5\\\\-1500    \\end{bmatrix}\n",
    "$$\n",
    "\n",
    "> Yukarıdaki örnekte, katsayı matrisinde yapılan binde bir bir değişikliklik, çözüm vektöründe \\%200 oranında farklılaşmaya sebep oldu."
   ]
  },
  {
   "cell_type": "markdown",
   "metadata": {},
   "source": [
    "## Doğrusal (Lineer) Sistem Çözümleri\n",
    "\n",
    "1. Bizim ilgileneceğimiz doğrusal sistemler kesikli sistemlerdir. Yani $\\int$ yerine $\\sum$ kullanılacakt.r\n",
    "2. Denklemler birinci dereceden bilinmeyenler içermelidir.\n",
    "3. $Ax=b$ şeklinde yazıp $x$'i bulmak istediğimiz denklem sistemleridir."
   ]
  },
  {
   "cell_type": "markdown",
   "metadata": {},
   "source": [
    "### Doğrusal Denklem Çözüm Yöntemleri\n",
    "\n",
    "Doğrusal denklem sistemlerini çözmek için temelde iki yöntem vardır. Birincisi direkt çözüm yöntemleri, ikincisi ise inderekt veya iteratif çözüm yöntemleridir. Bu derste iteratif çözüm yöntemleri incelenmeyecektir.\n",
    "\n",
    "**İteratif Çözüm Metotları**: Çözüme yaklaşmak için sürekli işlem yapılması gerekir. Bilgisayar kaynakları açısından ekonomik değildir. Çözümün hangi aralıkta olduğu bilindiğinde kullanılabilir.\n",
    "\n",
    "**Direkt Çözüm Metotları**: Analitik çözüm metotları kullanarak sayısal çözüm elde etme metotlarıdır. Bu derste aşağıdaki üç adet direkt çözüm metotlarını inceleyeceğiz.\n",
    "\n",
    "1. Gauss eleme (elimination) yöntemi,\n",
    "2. LU ayrıştırma (decomposition) yöntemi,\n",
    "3. Gauss-Jordan eleme yöntemi"
   ]
  },
  {
   "cell_type": "markdown",
   "metadata": {},
   "source": [
    "## Gauss Eleme Yöntemi"
   ]
  },
  {
   "cell_type": "markdown",
   "metadata": {},
   "source": [
    "Katsayı matrisinde **satır** işlemleri yaparak alt veya üst üçgensel kısmı sıfır yapılır ve çözüm bulunur. Bu işlem yaparak denklem çözümüne **Gauss Eleme Yöntemi** adı verilir. \n",
    "\n",
    "Katsayı matrislerinin köşegen elemanların altındaki elemanlar 0 yapılırsa *üst üçgensel form* yapma, köşegen elemanlarının üstündeki elemanlar 0 yapılırsa *alt üçgensel form* yapma adı verilir.\n",
    "\n",
    "Matrisi alt/üst üçgensel forma getirdikten sonra ileri/geri yerine koyma metodu ile denklem sisteminin çözümü elde edilir."
   ]
  },
  {
   "cell_type": "markdown",
   "metadata": {},
   "source": [
    "Gauss eleme metodunu bilgisayarda yapmak için bir algoritma haline getirmek gerekmektedir. Bu işlemin sistematik hali aşağıdaki gibidir.\n",
    "\n",
    "\\begin{align}\n",
    "    \\text{Eq}(i) - ~\\lambda~ \\text{Eq}(j) \\rightarrow \\text{Eq}(i)\n",
    "\\end{align}\n",
    "\n",
    "Burada *Eq* denklem anlamına gelir. Eq(i) ise i'inci denklem veya katsayı matrisinin i'inci satırı anlamına gelir.\n",
    "\n",
    "> Yukarıda verilen formülasyondaki eksi (-) işareti her zaman eksi kalmalıdır çünkü bu formülü kodlarken tek bir işaret kullanılmalıdır.\n",
    "\n",
    "> Yukarıda verilen formülasyonda $\\rightarrow$ 'un sağındaki ve solundaki \"**i**\" indisine dikkat ediniz. \n",
    "\n",
    "**Örneğin**\n",
    "\n",
    "1. Eq(1) - 4 Eq(2) $\\rightarrow$ Eq(1). Burada $\\lambda=4$.\n",
    "2. Eq(2) - (-5) Eq(3) $\\rightarrow$ Eq(2). Burada $\\lambda=-5$.\n",
    "\n",
    "> Tüm satır işlemleri sadece katsayı matrisine değil sonuç vektörüne (matrisine), $b$, de uygulanır."
   ]
  },
  {
   "cell_type": "markdown",
   "metadata": {},
   "source": [
    "### Örnek\n",
    "\n",
    "Aşağıdaki denklemi Gauss-Jordan yöntemi kullanarak çözelim.\n",
    "\n",
    "$$\n",
    "4x_{1}- 2x_{2}+ x_{3} = 11\\\\\n",
    "-2x_{1}+ 4x_{2}- 2x_{3}= -16\\\\\n",
    "x_{1}-2x_{2}+4x_{3}= 17\n",
    "$$\n",
    "\n",
    "Matris formunda yazalım.\n",
    "\n",
    "$$\n",
    "\\begin{bmatrix}    4 & -2 & 1 \\\\ -2 & 4 & -2 \\\\ 1 & -2 & 4    \\end{bmatrix} \\begin{bmatrix}    x_{1} \\\\ x_{2} \\\\ x_{3}    \\end{bmatrix} = \\begin{bmatrix}    11 \\\\ -16 \\\\ 17    \\end{bmatrix}\n",
    "$$\n",
    "\n",
    "Burada satırları yani denklemleri isimlendirelim.\n",
    "\n",
    "- (1) denklemi yani Eq(1) $[4 -2 1]$ olur.\n",
    "- (2) denklemi yani Eq(2) $[-2 4 -2]$ olur.\n",
    "- (3) denklemi yani Eq(3) $[1 -2 4]$ olur.\n",
    "\n",
    "**ADIM 1**\n",
    "\n",
    "**2 satır 1. sütunu** yani $A_{21}$ terimini $0$ yapalım. Bu işlemde $\\lambda=~-0.5$ olmalı aşağıdaki işlem uygulanmalı.\n",
    "\n",
    "$$\n",
    "\\text{Eq}(2) - ~(-0.5)~ \\text{Eq}(1) \\rightarrow \\text{Eq}(2)\n",
    "$$\n",
    "\n",
    "$$\n",
    "A=\\begin{bmatrix}    4 & -2 & 1 \\\\ \\mathbf{0} & 3 & -1.5 \\\\ 1 & -2 & 4    \\end{bmatrix} \\qquad \\text{,} \\qquad \\vec{b}=\\begin{bmatrix}    11 \\\\ -10.5 \\\\ 17    \\end{bmatrix}\n",
    "$$\n",
    "\n",
    "**ADIM 2**\n",
    "\n",
    "**3. satır 1. sütunu** yani $A_{31}$ terimini $0$ yapalım. Bu işlemde $\\lambda=~0.25$ olmalı aşağıdaki işlem uygulanmalı.\n",
    "\n",
    "$$\n",
    "\\text{Eq}(3) - ~(0.25)~ \\text{Eq}(1) \\rightarrow \\text{Eq}(2)\n",
    "$$\n",
    "\n",
    "$$\n",
    "A=\\begin{bmatrix}    4 & -2 & 1 \\\\ 0 & 3 & -1.5 \\\\ \\mathbf{0} & -1.5 & 3.75    \\end{bmatrix} \\qquad \\text{,} \\qquad \\vec{b}=\\begin{bmatrix}    11 \\\\ -10.5 \\\\ 14.25    \\end{bmatrix}\n",
    "$$\n",
    "\n",
    "**ADIM 3**\n",
    "\n",
    "**3. satır 2. sütunu** yani $A_{32}$ terimini $0$ yapalım. Bu işlemde $\\lambda=~-0.5$ olmalı aşağıdaki işlem uygulanmalı.\n",
    "\n",
    "$$\n",
    "\\text{Eq}(3) - ~(-0.5)~ \\text{Eq}(2) \\rightarrow \\text{Eq}(2)\n",
    "$$\n",
    "\n",
    "$$\n",
    "A= \\begin{bmatrix}    4 & -2 & 1 \\\\ 0 & 3 & -1.5 \\\\ 0 & \\mathbf{0} & 3    \\end{bmatrix} \\qquad \\text{,} \\qquad \\vec{b}=\\begin{bmatrix}    11 \\\\ -10.5 \\\\ 9    \\end{bmatrix}\n",
    "$$\n",
    "\n",
    "> Katsayı matrisimiz üst üçgensel forma geldi.\n",
    "\n",
    "Üst üçgensel forma getirilen katsayı matrsinden çözüm elde edebiliriz. Bunun için **geri yerine koyma** metodu kullanacağız.\n",
    "\n",
    "$$\n",
    "A= \\begin{bmatrix}    4 & -2 & 1 \\\\ 0 & 3 & -1.5 \\\\ 0 & \\mathbf{0} & 3    \\end{bmatrix} \\qquad \\text{,} \\qquad \\vec{b}=\\begin{bmatrix}    11 \\\\ -10.5 \\\\ 9    \\end{bmatrix}\n",
    "$$\n",
    "\n",
    "En son satırdan çözüm elde etmeye başlayalım.\n",
    "\n",
    "$$\n",
    "3x_{3}=9\\\\\n",
    "x_{3}=3\n",
    "$$\n",
    "\n",
    "Sondan bir önceki satıra yani ikinci satıra bakalım.\n",
    "\n",
    "$$\n",
    "3x_{2}-1.5x_{3}=-10.5\\\\\n",
    "3x_{2}-4.5=-10.5\\\\\n",
    "x_{2}=-2\n",
    "$$\n",
    "\n",
    "İlk satıra bakalım.\n",
    "\n",
    "$$\n",
    "4x_{1}-2x_{2}+x_{3}=11\\\\\n",
    "4x_{1}+4+3=11\\\\\n",
    "x_{1}=1\n",
    "$$\n",
    "\n",
    "Bu durumda çözüm vektörümüz, $\\vec{x}$, aşağıdaki gibi olacaktır.\n",
    "\n",
    "$$\n",
    "\\vec{x}= \\begin{bmatrix}    1 \\\\ -2 \\\\ 3    \\end{bmatrix}\n",
    "$$"
   ]
  },
  {
   "cell_type": "markdown",
   "metadata": {},
   "source": [
    "### Satır İşlemleri ve Determinant İlişkisi\n",
    "\n",
    "- İki satırın yerini değiştrimek $|A|$ determinantının işareti değiştirir.\n",
    "- Matrisin bir satırını bir katsayı ile çarparsak, matris determinanı da o katsayı ile çarpılır.\n",
    "- Bir katsayı ile bir satırı çarpıp, o satırı başka bir satır ile toplayıp ardindan topladığımız satırı katsayı ile çarpığıımz satır yerine yazarsak (yukarıda yaptığımız işlemler) determinant, $|A|$, değişmez.\n",
    "- Alt veya üst köşegen formda olan bir matrisin determinantı, köşegen elemanlarının çarpımına eşittir. "
   ]
  }
 ],
 "metadata": {
  "language_info": {
   "name": "python"
  }
 },
 "nbformat": 4,
 "nbformat_minor": 2
}
