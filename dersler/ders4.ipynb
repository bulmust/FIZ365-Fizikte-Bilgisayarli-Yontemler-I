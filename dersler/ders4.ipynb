{
 "cells": [
  {
   "cell_type": "markdown",
   "metadata": {},
   "source": [
    "# Class\n",
    "\n",
    "Python'da class (sınıf) tanımlamak için `class` anahtar kelimesi kullanılır. Classlar belli konularda sınıflandırmaya yarar. Bu sınıflandırma içerisinde değişkenler fonksiyonlar gibi parametreler olabilir.\n",
    "\n",
    "Classları yarattıktan sonra bir değişkene atayarak veya sınıfın ismini kullanarak classın içerisindeki parametrelere erişebiliriz. Sınıfların alt elemanlarına nokta `.` ile erişebiliriz."
   ]
  },
  {
   "cell_type": "code",
   "execution_count": null,
   "metadata": {},
   "outputs": [],
   "source": [
    "class class1:\n",
    "    gerekliAKTS= 240"
   ]
  },
  {
   "cell_type": "code",
   "execution_count": null,
   "metadata": {},
   "outputs": [],
   "source": [
    "print(class1.gerekliAKTS)"
   ]
  },
  {
   "cell_type": "markdown",
   "metadata": {},
   "source": [
    "Classlar içerisine fonksiyon da yazabiliriz."
   ]
  },
  {
   "cell_type": "code",
   "execution_count": null,
   "metadata": {},
   "outputs": [],
   "source": [
    "class class2:\n",
    "    pi=3.14\n",
    "    def printMerhabaDunya():\n",
    "        print(\"Merhaba Dünya\")\n",
    "print(class2.pi)\n",
    "class2.printMerhabaDunya()"
   ]
  },
  {
   "cell_type": "markdown",
   "metadata": {},
   "source": [
    "Bir dosya içerisine değişkenler ve fonksiyonlar aynı anda yazabilir. Bu dosyayı, başka bir python betik dosyasından çağırarak modül gibi davranabiliriz."
   ]
  },
  {
   "cell_type": "markdown",
   "metadata": {},
   "source": [
    "## Örnek\n",
    "\n",
    "Önce `bizimModul.py` adlı bir dosya yaratalım. Jupyter notebook kullanıyorsanız `!` işaretiyle linux komutları çalıştırabilirsiniz. Eğer Jupyter notebook kullanmıyorsanız aşağıdaki işlemleri elle yapmanız gerekmektedir."
   ]
  },
  {
   "cell_type": "code",
   "execution_count": null,
   "metadata": {},
   "outputs": [],
   "source": [
    "!touch bizimModul.py"
   ]
  },
  {
   "cell_type": "markdown",
   "metadata": {},
   "source": [
    "Bu dosyanın, `bizimModul.py` dosyasının, içerisini dolduralım."
   ]
  },
  {
   "cell_type": "code",
   "execution_count": null,
   "metadata": {},
   "outputs": [],
   "source": [
    "!echo \"pi= 3.1415\" >> bizimModul.py"
   ]
  },
  {
   "cell_type": "markdown",
   "metadata": {},
   "source": [
    "Bu modülün içerisine bakalım."
   ]
  },
  {
   "cell_type": "code",
   "execution_count": null,
   "metadata": {},
   "outputs": [],
   "source": [
    "!cat bizimModul.py"
   ]
  },
  {
   "cell_type": "markdown",
   "metadata": {},
   "source": [
    "Başka bir python betik dosyasından `bizimModul.py` dosyasını `import` komutu ile çalıştıralım. Bizim modul içerisindeki `pi` değişkenini içeriğini ekrana yazdırın.\n",
    "\n",
    "`bizimModul.py`'nin olduğu klasöre `bizimModulCagir.py` adında bir dosya yaratın.\n",
    "\n",
    "> Özel olarak oluşturduğumuz modüller betik dosyası ile aynı klasörde olmalı. Aksi taktirde python modülü varsayılan yollara (path) bakacak ve oluşturduğunuz modülü bulamayacaktır. Modüllerin yolunu görmek için `sys.path` komutunu kullanabilirsiniz. Modülünüzün yolunu eklemek için `sys.path.append(\"modulun_yolu\")` komutunu kullanabilirsiniz."
   ]
  },
  {
   "cell_type": "code",
   "execution_count": null,
   "metadata": {},
   "outputs": [],
   "source": [
    "import bizimModul as bm\n",
    "\n",
    "print(bm.pi)"
   ]
  },
  {
   "cell_type": "markdown",
   "metadata": {},
   "source": [
    "Şimdi `bizimModul.py` dosyasına `toplama(a,b)` adında bir fonksiyon ekleyelim. Bu fonksiyon `a` ve `b` değişkenlerini alsın ve sonuç olarak `a+b` değerini döndürsün."
   ]
  },
  {
   "cell_type": "code",
   "execution_count": null,
   "metadata": {},
   "outputs": [],
   "source": [
    "!echo -e \"def toplama(a,b):\\n    return a+b\" >> bizimModul.py\n",
    "!cat bizimModul.py"
   ]
  },
  {
   "cell_type": "markdown",
   "metadata": {},
   "source": [
    "`bizimModul` modülünü tekrar çağıralım ve `toplama` fonksiyonunu deneyelim."
   ]
  },
  {
   "cell_type": "code",
   "execution_count": null,
   "metadata": {},
   "outputs": [],
   "source": [
    "import bizimModul as bm\n",
    "\n",
    "print(bm.pi)\n",
    "print(bm.toplama(4,5))"
   ]
  },
  {
   "cell_type": "markdown",
   "metadata": {},
   "source": [
    "Eğer Jupiter notebook kullanıyorsanız yukarıdaki komut çalışmayabilir. Bunun sebebi daha önceden `bizimModul` çağırmanızdır. Kerneli (çekirdek) yeniden başlatın ve sadece yukarıda bulunan kod bloğunu çalıştırın."
   ]
  },
  {
   "cell_type": "markdown",
   "metadata": {},
   "source": [
    "Yukarıdaki örnekte gördüğümüz gibi modüller de classlar gibi davranmaktadır. Çalıştırmak istediğimiz betik dosyasında `class` oluşturup ona ait olan alt bileşenleri çağırabiliriz veya başka bir dosyada kullanmak istediğimiz fonksiyon, değişken, class vb. tanımlamalar yapar, betik dosyamızda bu tanımlamaları kullanabiliriz."
   ]
  },
  {
   "cell_type": "markdown",
   "metadata": {},
   "source": [
    "> Bir python dosyasının betik dosyası mı yoksa bir modül mü olduğunu anlamanın kısa bir yolu yoktur. Bunun için yapılan bir _kabul_ vardır. Eğer bir `.py` dosyasında `if __name__ == '__main__':` komutu varsa ve istenilen işlemler bu koşulun altında yapılıyorsa, o dosya **betik** dosyası olarak kabul edilir. Yani bu dosyayı çalıştırabilirsiniz (`python dosya.py` şeklinde). Eğer bu koşul yoksa o dosya modül olarak çağırlmaya uygun bir dosya anlamına gelir. Bunun bir _kabul_ olduğunu tekrar etmekte yarar vardır. Bu konvensiyona uymak zorunda değilsiniz.\n",
    "\n",
    "> **UYARI**: Jupyter notebooklarda `if __name__ == '__main__'` kullanmayınız. "
   ]
  },
  {
   "cell_type": "markdown",
   "metadata": {},
   "source": [
    "Bir sınıf oluştururken sınıfın içerisindeki değişkenleri kullanarak da işlem yapabilirsiniz. Bunun için `__init__` fonksyionunu _ezmeniz_ gerekmektedir. Aşağıdaki örneği inceleyelim."
   ]
  },
  {
   "cell_type": "code",
   "execution_count": null,
   "metadata": {},
   "outputs": [],
   "source": [
    "class sizinClass: # Class oluştur.\n",
    "    def __init__(self, degiskenStr): # Class'ı çağırırken ekstra bir değişken daha isteyebilirsin.\n",
    "        # Self dışındaki bu değişkeni self içerisine atıp class'ın diğer bileşenlerinde\n",
    "        # kullanabilirsin.\n",
    "        self.merhabaDunya= degiskenStr + \" Merhaba Dünya!\"\n",
    "    def yazdir(self):\n",
    "        print(self.merhabaDunya) # Yukarıda tanımladığım self'in merhabaDunya değişkenini yazdır.\n",
    "\n",
    "sizinClassDegiskeni= sizinClass('Ben uzaylıyım.') # Class oluştur ve oluşturma değişkenine 'Ben uzaylıyım' yaz.\n",
    "sizinClassDegiskeni.yazdir() # Class'ın yazdır fonksiyonunu çağır.\n",
    "\n",
    "sizinClass('Kartallar yüksekten uçar...').yazdir() # Class'ı değişkene atamadan da bu işlem yapılabilir."
   ]
  },
  {
   "cell_type": "markdown",
   "metadata": {},
   "source": [
    "# Alıştırmalar"
   ]
  },
  {
   "cell_type": "markdown",
   "metadata": {},
   "source": [
    "## Modül\n",
    "\n",
    "Aşağıdaki soruları, oluşturduğunuz `fiz365.py` dosyası içerisine cevaplayın. Ardından `calistir.py` adında bir betik dosyasında yazdıklarınızı çağırın.\n",
    "\n",
    "1. `fiz365.py` dosyasının içerisine `numpy` modülünü `np` ismiyle çağırın.\n",
    "2. `faktoriyel()` adında bir fonksiyon yazın. Bu fonksiyon bir tam sayı alsın ve o sayının faktöriyelini döndürsün. Eğer verilen sayı tam sayı değilse `False` değeri döndürsün.\n",
    "   1. `isinstance(sayi, int)` fonksiyonu, `sayi` degiskeninin `int` tipinde olup olmadığını sınar. Eğer `int` ise `True` değeri döndürür. Eğer değilse `False` değeri döndürür.\n",
    "3. `topla()` adında bir fonksyion yazın. Bu fonksyion bir tam sayı alsın ve birden o sayıya kadar olan tüm tam sayıların toplamını döndürsün. Eğer sayı tam sayı değilse `False` değeri döndürsün.\n",
    "4. `obeb()` adında bir fonksyion yazın. Bu fonksyion iki tam sayı alsın ve o sayıların ortak bölenlerinin en büyüğünü döndürsün. Eğer verilen sayı tam sayı değilse `False` değeri döndürsün.\n",
    "5. `okek()` adında bir fonksyion yazın. Bu fonksyion iki tam sayı alsın ve o sayıların ortak katlarının en küçüğünü döndürsün. Eğer verilen sayı tam sayı değilse `False` değeri döndürsün.\n",
    "6. `dik_mi()` adında bir fonksyion yazın. Bu fonksiyon üç sayı alsın ve bu üç sayıdan bir dik üçgen oluşuyor mu denesin. Eğer oluşuyorsa `True` dönmüyorsa `False` değeri döndürsün.\n",
    "   1. Sayıları sıralamak için `np.sort([sayi1, sayi2])` fonksiyonunu kullanabilirsiniz.\n",
    "7. `calistir.py` dosyası içerisine `fiz365` modülünü `f365` ismi ile çağırın ve aşağıdaki fonksiyonları çalıştırın. Çıktılarını ekrana ne olduklarını belirterek yazdırın.\n",
    "   1. `faktoriyel(5)`, `faktoriyel(5.5)`\n",
    "   2. `topla(5)`, `topla(5.5)`\n",
    "   3. `obeb(12, 28)`, `obeb(12, 28.5)`\n",
    "   4. `okek(8, 28)`, `okek(8, 28.5)`, `okek(8.3, 28)`. Sonuç neden tam sayı yani `int` şeklinde değil de `.0` şeklinde oluyor? Açıklayınız.\n",
    "   5. `dik_mi(3, 5, 4)`, `dik_mi(3, 4, 6)`\n",
    "8. `fizik365.py` dosyasını kaydedin ve yedekleyin. Bu dosyayı dersin geri kalanında kullanacağız."
   ]
  },
  {
   "cell_type": "markdown",
   "metadata": {},
   "source": [
    "## Karışık Alıştırmalar\n",
    "\n",
    "Aşağıdaki sorularda fonksiyonları yazın. Ardından uygun değerler için fonksyionları çağırın ve çıktısını ekrana yazdırın.\n",
    "\n",
    "1. Bir fonksiyon yazın. Bu fonksiyon iki adet değişken alsın. Birinci değişkenden ikinci değişkene kadar (ikinci değişken dahil değil) olan tüm sayıların toplamını ekrana yazdırsın ve değerini döndürsün.\n",
    "2. Bir fonksiyon yazın. Bu fonksiyon bir adet değişken alsın. Girilen değişken $x^3+2x^2-x-1=0$ denkleminin çözümü ise `True` değil ise `False` döndürsün.\n",
    "3. Bir fonksyion yazın. Bu fonksiyon bir adet değişken alsın. Bu değişken **uzaklık** gibi olsun ve 1 boyutlu negatif elektrik yükünün girilen (değişken) uzaklıktaki elektrik potansiyelini birimiyle beraber ekrana yazdırsın ve değerini döndürsün.\n",
    "4. Bir fonksiyon yazın. Bu fonksiyon iki adet değişken alsın. Birinci değişken **konumdaki belirsizlik** gibi olsun.İkinci değişken de **momentumdaki belirsizlik** gibi olsun. Girilen değerleri Heisenberg Belirsizlik İlkesine uyup uymadığını kontrol etsin. Eğer uyuyorsa `True` eğer uymuyorsa `False` döndürsün.\n",
    "5. Bir fonksiyon yazın. Bu fonksiyon üç adet değişken alsın. Bu değişkenler; **kütle 1**, **kütle 2** ve **uzaklık** olsun. Fonksiyonda, girilen kütle ve uzaklık değerleri kullanılarak iki kütle arasında oluşan çekim kuvvetinin değerini birimiyle beraber ekrana yazdırsın. Sonuç değerini de döndürsün.\n",
    "6. Bir fonksiyon yazın. Bu fonksiyon dört adet değişken alsın. Bu değişkenler; **ilk uzaklık**, **ilk hız**, **zaman** ve **ivme** olsun. Fonksiyonda, girilen değerler kullanılarak, başlangıçta $x_0$ konumunda olan ve ilk hızı $v_0$ olan bir cismin $a$ ivmesi altında $t$ saniye sonra hangi konumda olacağı belirlensin. Sonucu birimiyle beraber ekrana yazdırın. Sonuç değerini döndürsün. Burada tüm büyüklüklükler skalerdir.\n",
    "7. Bir fonksiyon yazın. Bu fonksiyon iki adet değişken alsın. Bu değişkenler; **başlangıç hızı** ve **atış açısı** olsun. Fonksiyonda, yatay düzlemde, $v_0$ ile $\\theta$ açısıyla atılan bir cismin hangi konumda tekrar yatay düzlemde olacağı bulunsun. Atıştan sonra hangi konumda olduğu, havada geçirdiği süre ve maksimum çıkabileceği yükseklik ekrana yazdırılsın. Bu üç değerden oluşan bir tuple oluşturun. Fonksiyon bu tuple'ı döndürsün. Burada tüm büyüklüklükler skalerdir."
   ]
  },
  {
   "cell_type": "markdown",
   "metadata": {},
   "source": [
    "## Matris çarpımı\n",
    "\n",
    "1. 2 adet 3x3 matris oluşturun. Bunlardan bir tanesi 1'den 10'a kadar (10 dahil değil) diğeri ise 10'dan 19'a kadar olsun.\n",
    "2. Bu iki matrisi `@` ile çarpın ve sonucu ekrana yazdırın.\n",
    "3. `sonuc` adında 3x3'lük sıfır matrisi oluşturun.\n",
    "4. İlk matrisin birinci, ikinci ve üçüncü satırlarını ekrana yazdırın.\n",
    "5. İkinci matrisin tüm sütunlarını ayrı ayrı ekrana yazdırın.\n",
    "6. İlk matrisin ilk satırını ikinci matrisin ilk sütunu ile çarpın. Çıkan sonucu `sonuc` elemanın birinci satır birinci sütunundaki elemanına atayın.\n",
    "7. İlk matrisin ikinci satırını ikinci matrisin ilk sütunu ile çarpın. Çıkan sonucu `sonuc` elemanın birinci satır ikinci sütunundaki elemanına atayın.\n",
    "8. İlk matrisin üçüncü satırını ikinci matrisin ilk sütunu ile çarpın. Çıkan sonucu `sonuc` elemanın birinci satır üçüncü sütunundaki elemanına atayın.\n",
    "9. İlk matrisin ikinci satırını ikinci matrisin ilk sütunu ile çarpın. Çıkan sonucu `sonuc` elemanın ikinci satır birinci sütunundaki elemanına atayın.\n",
    "10. `mat_carp` adında bir fonksiyon oluşturun ve bu fonksiyon iki adet matris alsın. İki matrisi, `for` döngü(leri)sü yardımı ile çarpsın. Adımlar aşağıdaki gibidir.\n",
    "    1. Bu fonksiyon, matrislerin boyutlarını incelesin. Eğer matrislerin boyutu, ilk matrisin boyutu **NxM**, ikinci matrisin boyutu **MxT** şeklinde değilse `False` değerini döndürsün.\n",
    "    2. Eğer herhangi bir matrisin tüm elemanları **0** ise **Bir matrisin tüm elemanları sıfırdır.** şeklinde ekrana yazı yazsın ve `for` döngüsüne girmeden sonucu uygun boyutta **0** matrisi döndürsün.\n",
    "    3. Eğer herhangi bir matris birim matris ise **... matrisi birim matristir.** şeklinde ekrana yazı yazsın ve `for` döngüsüne girmeden sonucu ekrana yazsın.\n",
    "11. Yukarıdaki yazdığınız fonksiyonu uyarı metinleri ekranda yazacak şekilde bir çok kez çağırın.\n",
    "12. Eğer `mat_carp()` fonksiyonunu çağırırken girdilerden birisi bir boyutlu array olursa, hata alacaksınız. Bunun nedeni hakkında düşünün ve gerekli düzenlemeyi yapın."
   ]
  },
  {
   "cell_type": "markdown",
   "metadata": {},
   "source": [
    "## Dalga Fonksiyonun Normalizasyonu\n",
    "\n",
    "1. `normalize_et_dalgaFonk` adında bir fonksiyon yazın. Bu fonksiyonun bir adet numpy array tipi değişken alsın. \n",
    "   1. Alınan array en genel olarak sanal sayılardan oluşsun. Array'in her elemanını kendisinin sanal eşleniği (`np.conj()`) kendisini çarpsın ve çıkan sonuçları toplayıp **bir** adet  sayı elde etsin.\n",
    "   2. Fonksiyona girdi olarak verilen arrayi, elde edilen bu sayının kareköküne (`np.sqrt()`) bölsün ve elde edilen arrayi geri döndürsün.\n",
    "   3. Girdi 1 boyutlu array değilse, **bu fonksiyon sadece arrayler için çalışmaktadır.** yazsın. Bunun için `np.ndim()` fonksiyonunu kullanbilirsiniz. Fonksiyon girdisi bir boyutlu array değilse `None` değerini döndürsün.\n",
    "2. Bu fonksiyonu `[1, 1]` değerleri için çağırın.\n",
    "3. `xAxis` adında ve içeriği `0`'dan `1`'e kadar 100 elemanlı bir array oluşturun. Yardım: `np.linspace(baslangicSayi, bitisSayi, adet)`\n",
    "4. `yAxis` adında ve içeriği `0`'dan `1`'e kadar 100 elemanlı bir array oluşturun.\n",
    "5. Çizim yapmak için `matplotlib.pyplot` modülünü `plt` ismiyle çağırın ve x ve y eksenlerini çizdirin. Çizginin rengi siyah `k` olsun.\n",
    "6. `[1, 1]` arayini normalize ettiğimizde elde ettiğimiz arrayi de kırmızı ile `r` çizdirin.\n",
    "   1. Bunun için 3. ve 4. adımı `normalize_et_dalgaFonk` fonksiyonunu kullanarak tekrarlamanız gerekir. Fonksiyonu çağırdığınızda geri dönen iki değerden ilki `xAxis`'in 0'dan o noktaya kadar olan değerlerini belirleyecek, ikincisi ise `yAxis`'in 0'dan o noktaya kadar olan değerlerini belirleyecek.\n",
    "7. __Bu adımda bilgisayar kod yazmanıza gerek yoktur.__ Kuantum dalga fonksiyonu aşağıdaki gibi verilmiştir. Aşağıdaki verilen gösterimler eşdeğerdir.\n",
    "\n",
    "$$\n",
    "|\\psi> = A \\left(\\sin\\theta|\\uparrow> + \\cos\\theta|\\downarrow>\\right)\n",
    "$$\n",
    "\n",
    "$$\n",
    "|\\psi> = A\\sin\\theta \\left(\\begin{matrix}1\\\\0\\end{matrix}\\right) + A\\cos\\theta\\left(\\begin{matrix}0\\\\1\\end{matrix}\\right)\n",
    "$$\n",
    "\n",
    "$$\n",
    "|\\psi> = A\\left(\\begin{matrix}\\sin \\theta\\\\\\cos \\theta\\end{matrix}\\right)\n",
    "$$\n",
    "\n",
    "Bu kuantum durumu normalize olması için A ne olmalıdır? Yardım: $|<\\psi|\\psi>|^2=1$ için $A$ ne olmalıdır?\n",
    "\n",
    "8. Aşağıdaki dalga fonksiyonunu el ile normalize ediniz. `normalize_et_dalgaFonk` fonksiyonunu kullanarak yaptığınız hesabı kontrol ediniz.\n",
    "\n",
    "$$\n",
    "|\\psi> = A \\left((1+i)|\\uparrow> + (1-i)|\\downarrow> \\right)\n",
    "$$"
   ]
  }
 ],
 "metadata": {
  "kernelspec": {
   "display_name": "Python 3",
   "language": "python",
   "name": "python3"
  },
  "language_info": {
   "codemirror_mode": {
    "name": "ipython",
    "version": 3
   },
   "file_extension": ".py",
   "mimetype": "text/x-python",
   "name": "python",
   "nbconvert_exporter": "python",
   "pygments_lexer": "ipython3",
   "version": "3.10.12"
  }
 },
 "nbformat": 4,
 "nbformat_minor": 2
}
