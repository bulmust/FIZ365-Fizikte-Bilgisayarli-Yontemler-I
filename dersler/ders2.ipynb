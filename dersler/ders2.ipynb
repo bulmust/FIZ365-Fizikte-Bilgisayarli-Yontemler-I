{
 "cells": [
  {
   "cell_type": "markdown",
   "metadata": {},
   "source": [
    "# Python Programlama Dili\n",
    "\n",
    "Python karmaşık bir yapıya sahip, üst seviye bir programlama dilidir. Bu dili geliştirenler belli standartlar oluşturmuştur. Bu standartlar hem geliştiriciler hem de kullanıcılar için yol göstericidir. Bu kurallara genel adıyla PEP adı verilir. Ayrıntılı bilgi için [resmi pep sayfasını](https://peps.python.org/) ziyaret edebilirsiniz.\n",
    "\n",
    "## Temel Kurallar [(PEP8)](https://www.python.org/dev/peps/pep-0008/)\n",
    "\n",
    "Aşağıda Python programlama dilinde kullanılan bazı temel kurallar listelenmiştir. Bu kuralların bazıları zorunlu olmakla beraber bazıları tavsiye niteliğindedir.\n",
    "\n",
    "1. Python'da kodlar satır satır çalışır.\n",
    "2. Boş satırlar çalışmaz yani önemsizdir.\n",
    "3. `#` işareti ile yorum satırı yazılır.\n",
    "4. `;` ile birden fazla komut aynı satırda yazılabilir. Ancak bu kullanım tavsiye edilmez.\n",
    "5. Değişkenlere atamalarda `=` işareti kullanılır.\n",
    "6. Değişkenlerin ismi sayı ile başlayamaz.\n",
    "7. Değişkenlerin ismi boşluk içeremez.\n",
    "8. Değişkenlerin ismi özel yalın olmalı ve mümkün olduğunca özel karakterlerden kaçınılmalıdır. `_` kullanılabilir. Değişken adı verme kabulleri (convension) için [(PEP8-Naming-conventions)](https://www.python.org/dev/peps/pep-0008/#naming-conventions)  adlı bağıntıya gidiniz. Topluluğun benimsediği kabuller için [buraya](https://en.wikipedia.org/wiki/Naming_convention_(programming)) bakabilirsiniz.\n",
    "9. Eğer çok kelime içeren bir değişken ismi kullanılacak ise tüm kod boyunca aynı format kullanılması tavsiye edilir. Örneğin: `firstName`, `lastName` gibi veya `first_name`, `last_name` gibi.\n",
    "10. Değişkenlerin ismi tanımlı anahtar kelimeler olamaz. Örneğin `for`, `while`, `if`, `True`, `in` gibi.\n",
    "11. Eğer satır içerisindeki kodlar çok uzun ise `\\` kullanılarak alt satıra geçilebilir. Bazı durumlarda bu işlem gereksizdir. Örneğin parantez içerisinde uzun bir kod yazılması durumunda `\\` kullanılmayabilir.\n",
    "12. `for`, `if` gibi komutlardan sonra alt satıra geçildiğinde alt **satırın başına 4 boşluk bırakılmalıdır**. Bu işlemi yapmak için `Tab` tuşuna basılabilir. (Tab tuşuna basıldığında 4 boşluk (space) bırakması gerekir.)\n",
    "13. Kodun okunaklı olması için uygun yerlerde boşluk kullanılması tavsiye edilir.\n",
    "14. Bu derste yazılan betiklerin (script) dosya uzantısı `.py` olmalıdır.\n",
    "15. Eğer betik çalıştırıldıktan sonra görevini tamamladı ise sonuna `exit()` komutu konmalıdır. Bu komut betiği sonlandırmak için kullanılır.\n",
    "\n",
    "Diğer tavsiyeler için [\"PEP8 Programlama Tavsiyeleri\"](https://peps.python.org/pep-0008/#programming-recommendations) sayfasına gidiniz."
   ]
  },
  {
   "cell_type": "markdown",
   "metadata": {},
   "source": [
    "## Değişkenler (Variables)\n",
    "\n",
    "Bu ders boyunca sık sık kullanacağımız 3 çeşit değişken tipi olacaktır.\n",
    "\n",
    "1. Tam sayı (integer): `int`\n",
    "2. Ondalık sayı (float): `float`\n",
    "3. Sanal sayı (complex): `complex`\n",
    "\n",
    "Herhangi bir değişkene sayı ataması yaparken değişkenin cinsini belirlemeye gerek yoktur (C++ gibi değil). Python otomatik olarak değişkenin cinsini belirler.\n",
    "\n",
    "Değişkenlere atananı ekrana yazdırmak için `print()` fonksiyonu kullanılır."
   ]
  },
  {
   "cell_type": "code",
   "execution_count": null,
   "metadata": {},
   "outputs": [],
   "source": [
    "# int\n",
    "tamsayi1= 5\n",
    "print(tamsayi1)\n",
    "\n",
    "# float\n",
    "float1= 5.0\n",
    "print(float1)\n",
    "\n",
    "# complex\n",
    "complex1= 5 + 0j\n",
    "print(complex1)\n",
    "print(complex(3,4))\n",
    "\n",
    "digerKarmasikSayi= 5j\n",
    "print(digerKarmasikSayi)"
   ]
  },
  {
   "cell_type": "markdown",
   "metadata": {},
   "source": [
    "Değişken tanımlamarı hard diskte değil RAM'de depolanır. Bunun sebebi değişkenler ile ilgili okuma/yazma işleminin hızlı olması gerekir. \n",
    "\n",
    "Değişkenleri silmek (RAM'den) için `del` komutu kullanılır."
   ]
  },
  {
   "cell_type": "code",
   "execution_count": null,
   "metadata": {},
   "outputs": [],
   "source": [
    "del tamsayi1, float1, complex1 # Değişkenleri siler"
   ]
  },
  {
   "cell_type": "markdown",
   "metadata": {},
   "source": [
    "Bir metini (string) bir değişkene atamak için `\"` veya `'` kullanılır. Bu yöntemlerden bir tanesini seçin ve onu kullanmaya özen gösterin."
   ]
  },
  {
   "cell_type": "code",
   "execution_count": null,
   "metadata": {},
   "outputs": [],
   "source": [
    "str1= \"Hello \" # string\n",
    "str2= 'World' # string\n",
    "\n",
    "print(str1)\n",
    "print(str2)\n",
    "\n",
    "# İki stringi birleştirip yazdirir\n",
    "print(str1, str2)"
   ]
  },
  {
   "cell_type": "markdown",
   "metadata": {},
   "source": [
    "Ekrana bir değişkeni veya string'i yazdırmak için `print()` fonksiyonu kullanılır. Bu fonksiyonun kullanımı aşağıdakiler gibi olabilir."
   ]
  },
  {
   "cell_type": "code",
   "execution_count": null,
   "metadata": {},
   "outputs": [],
   "source": [
    "print(\"Merhaba Dünya\") # \"\" kullanarak\n",
    "print('Merhaba Dünya') # '' kullanarak\n",
    "\n",
    "dunyaDegiskeni= 'Dünya'\n",
    "\n",
    "print(\"Merhaba\", dunyaDegiskeni) # En kolay yolu\n",
    "print(f\"Merhaba {dunyaDegiskeni}\") # Biz bunu kullanmaya özen göstereceğiz.\n",
    "print(\"Merhaba %s\" %dunyaDegiskeni) # C dilleri gibi"
   ]
  },
  {
   "cell_type": "markdown",
   "metadata": {},
   "source": [
    "Bir değişkenin türünü öğrenmek için `type()` fonksiyonu kullanılır. Bu fonksiyonun çıktısı olarak **class** tipinde bir çıktı alınır. Bunun sebebi Python'da çoğu değişkenin bir nesne (object) olmasıdır."
   ]
  },
  {
   "cell_type": "code",
   "execution_count": null,
   "metadata": {},
   "outputs": [],
   "source": [
    "tamsayi1 = 5\n",
    "float1 = 5.0\n",
    "complex1 = 5 + 0j\n",
    "\n",
    "print(type(tamsayi1))\n",
    "print(type(float1))\n",
    "print(type(complex1))\n",
    "print(type(str1))"
   ]
  },
  {
   "cell_type": "markdown",
   "metadata": {},
   "source": [
    "Herhangi bir değişkenin tipini çevirmek için `int()`, `float()`, `complex()` fonksiyonları kullanılır. Bu fonksiyonların çalışmadığı durumlar olabilir."
   ]
  },
  {
   "cell_type": "code",
   "execution_count": null,
   "metadata": {},
   "outputs": [],
   "source": [
    "print(int(4.9)) # 4\n",
    "print(float(4)) # 4.0\n",
    "print(complex(4)) # (4+0j)\n",
    "print(complex(41,5)) # (41+5j)\n",
    "\n",
    "#print(int(4+3j)) # int fonksiyonu karmaşık bir sayıyı tam sayıya çeviremez."
   ]
  },
  {
   "cell_type": "markdown",
   "metadata": {},
   "source": [
    "Mantıksal (\"boolean\" veya \"bool\") değişkenler `True` ve `False` değerlerini alabilirler."
   ]
  },
  {
   "cell_type": "code",
   "execution_count": null,
   "metadata": {},
   "outputs": [],
   "source": [
    "bool1= True # bool\n",
    "bool2= False # bool\n",
    "print(type(bool1))\n",
    "print(bool1,bool2)"
   ]
  },
  {
   "cell_type": "markdown",
   "metadata": {},
   "source": [
    "\n",
    "Birden fazla değişkeni tutmak için iki çeşit dizi (array) kullanacağız. Bunlardan biri listeler (dinamik) diğeri ise demettir (tuple) (statik). Listelerin içindeki eleman sayısı ve elemanları değiştirilirken demetlerin içindeki elemanlar ve eleman sayısı değiştirilemez.\n",
    "\n",
    "Demetlerin bu özelliğine **değişmez (immutable)** denir.\n",
    "\n",
    "Diğer çeşit diziler ise sözlükler `dict` [(örnekler için tıklayınız.)](https://www.w3schools.com/python/python_dictionaries.asp) ve kümelerdir, `set` [(örnekler için tıklayınız)](https://www.w3schools.com/python/python_sets.asp)."
   ]
  },
  {
   "cell_type": "markdown",
   "metadata": {},
   "source": [
    "Demet (tuple) oluşturmak için normal parantez, `()` kullanılır. Demet içindeki elemanlara erişmek için köşeli parantez `[]` kullanılır."
   ]
  },
  {
   "cell_type": "code",
   "execution_count": null,
   "metadata": {},
   "outputs": [],
   "source": [
    "tuple1= (1,2,3,4,5) # tuple\n",
    "print(tuple1[3]) # 4\n",
    "#! tuple1[0] = 10 #! Demetler değişmezdir (immutable). Bu kod \"TypeError\" hatası verir.\n",
    "\n",
    "print(\"Ilk elmani\")\n",
    "print(tuple1[0])\n",
    "print(\"Son elmani\")\n",
    "print(tuple1[4])\n"
   ]
  },
  {
   "cell_type": "markdown",
   "metadata": {},
   "source": [
    "Metinler (string) değişmez (immutable) bir veri tipidir. Bu yüzden metinler üzerinde değişiklik yapmak istediğimizde yeni bir metin oluşturmak gerekir."
   ]
  },
  {
   "cell_type": "markdown",
   "metadata": {},
   "source": [
    "Liste tanımlamak için köşeli parantez, `[]`, kullanılır. Liste içindeki elemanlara erişmek için de değişkenin yanına `[]` kullanılarak erişilir."
   ]
  },
  {
   "cell_type": "code",
   "execution_count": null,
   "metadata": {},
   "outputs": [],
   "source": [
    "list1= [1,2,3,4,5,6,7,8,9,10] # list\n",
    "print(list1) # Listenin tüm elemanları\n",
    "print(list1[0]) # Listenin ilk elemanı\n",
    "print(list1[3]) # Listenin 3. elemanı\n",
    "print(list1[:]) # Listenin tüm elemanları\n",
    "print(list1[1:3]) # Listenin 1. elemanından sona kadar olan elemanları # [2,3]\n",
    "print(list1[::2]) # Listenin tüm elemanları 2'şer 2'şer atlayarak"
   ]
  },
  {
   "cell_type": "markdown",
   "metadata": {},
   "source": [
    "Bir listenin içindeki elemanları değiştirebiliriz. Bunun için değiştirmek istediğimiz elemanın indeksini (index) yazıp onun yerine yeni bir değer yazmamız yeterlidir."
   ]
  },
  {
   "cell_type": "code",
   "execution_count": null,
   "metadata": {},
   "outputs": [],
   "source": [
    "list5= [1,2,3,4,5,6,7,8,9]\n",
    "print(list5)\n",
    "list5[1] = 66 # Listenin 1. indeksindeki elemanı 66 yapar.\n",
    "print(list5)\n",
    "list5[4:6] = [78, 93] # Listenin 4. ve 5. indekslerindeki elemanları 78 ve 93 yapar.\n",
    "print(list5)"
   ]
  },
  {
   "cell_type": "markdown",
   "metadata": {},
   "source": [
    "Listelerin sonuna eleman eklemek için `append()` fonksiyonu kullanılır. Listenin boyutunu arttırır."
   ]
  },
  {
   "cell_type": "code",
   "execution_count": null,
   "metadata": {},
   "outputs": [],
   "source": [
    "list2= [1,2,3]\n",
    "print(list2)\n",
    "list2.append(125) # Listenin sonuna 125'ü ekler\n",
    "print(list2)\n"
   ]
  },
  {
   "cell_type": "markdown",
   "metadata": {},
   "source": [
    "Bir listenin sonuna değil de istenilen bir yerine eleman eklemek için `insert()` fonksiyonunu kullanılar. Listenin boyutunu arttırır."
   ]
  },
  {
   "cell_type": "code",
   "execution_count": null,
   "metadata": {},
   "outputs": [],
   "source": [
    "list3= [1,2,3]\n",
    "print(list3)\n",
    "list3.insert(1,66) # Listenin 1. indisi yerine 66'yı ekler ve diğer elemanları kaydırır.\n",
    "print(list3)"
   ]
  },
  {
   "cell_type": "markdown",
   "metadata": {},
   "source": [
    "Bir listenin içinde kaç eleman olduğunu bulmak için `len()` fonksiyonu kullanılır."
   ]
  },
  {
   "cell_type": "code",
   "execution_count": null,
   "metadata": {},
   "outputs": [],
   "source": [
    "list4= [1,2,3]\n",
    "print(list4)\n",
    "print(len(list4))"
   ]
  },
  {
   "cell_type": "markdown",
   "metadata": {},
   "source": [
    "Sıralı yazılmış bir liste oluşturmak için `list(range())` fonksiyonu kullanılır. Sadece `range()` fonksiyonu kullanıldığında bir liste oluşturulmaz. `range()` fonksiyonu sadece bir aralık oluşturur ve tek kullanıldığı yer çoğunlukla `for` döngülerinin içerisidir."
   ]
  },
  {
   "cell_type": "code",
   "execution_count": null,
   "metadata": {},
   "outputs": [],
   "source": [
    "print(list(range(10))) # 0'dan 10'a kadar olan sayıları listeye çevirir !! 10 Dahil değil !!.\n",
    "print(list(range(3,10))) # 3'ten 10'a kadar olan sayıları listeye çevirir.\n",
    "print(list(range(5,20,2))) # 5'den 20'a kadar olan sayıları 2'şer 2'şer atlayarak listeye çevirir.\n",
    "print(list(range(20,5,-2))) # 20'den 5'e kadar olan sayıları 2'şer 2'şer atlayarak listeye çevirir.\n",
    "\n",
    "print([*range(10)])"
   ]
  },
  {
   "cell_type": "markdown",
   "metadata": {},
   "source": [
    "> **! UYARI !** : Değiştirilebilir (mutable) değişkenler `a=b` ifadesi ile `a` değişkenine `b` değişkeninin değerini atamaz. `a` değişkeninin değeri `b` değişkeninin değerini referans eder. Bu demektir ki `b` değişkeninin değeri değiştiğinde `a` değişkeninin değeri de değişir."
   ]
  },
  {
   "cell_type": "code",
   "execution_count": null,
   "metadata": {},
   "outputs": [],
   "source": [
    "list5= [1.0, 2.0, 3.0]  # list5= list([1.0, 2.0, 3.0])\n",
    "list6_degismemesi_gereken= list5 # list5= [1.0, 2.0, 3.0], list6_degismemesi_gereken= [1.0, 2.0, 3.0]\n",
    "print(list6_degismemesi_gereken)\n",
    "list5[0] = 976.0 # list5= [976.0, 2.0, 3.0]\n",
    "print(list6_degismemesi_gereken) #! Değiştirdiğimiz list5'in bir kopyası olan list6_degismemesi_gereken de değişti."
   ]
  },
  {
   "cell_type": "markdown",
   "metadata": {},
   "source": [
    "**İki boyutlu listeler** için iki parantez iç içe kullanılır. İlk parantezin içi ilk satırı, ikinci parantez içi ikinci satırı şeklinde devam eder.\n",
    "\n",
    "İki boyutlu listelere matris olarak da bakılabilir.\n",
    "\n",
    "İki boyutlu listelerdeki elemanlara erişmek için `[]` kullanılır. Köşeli parantezin içerisindeki ilk sayı satırı, ikinci sayı sütunu belirtir. Eğer sadece bir sayı yazılırsa o satırın tüm sütunları alınır."
   ]
  },
  {
   "cell_type": "code",
   "execution_count": null,
   "metadata": {},
   "outputs": [],
   "source": [
    "list2d_1= [[1,2,3],[4,5,6],[7,8,9]]\n",
    "print(list2d_1) # 2 boyutlu liste\n",
    "print(list2d_1[1]) # 2 boyutlu listede 1. satır\n",
    "print(list2d_1[1][2]) # 2 boyutlu listede 1. satırın 2. elemanı"
   ]
  },
  {
   "cell_type": "markdown",
   "metadata": {},
   "source": [
    "> **Note:** Yukarıdaki örnekten farklı olarak biz 2 boyutlu listeleri yani matrisleri `numpy` paketi kullanarak çağıracağız. Bu pakette matris elemanlarına `[i][j]` olarak değil `[i,j]` olarak erişiriz."
   ]
  },
  {
   "cell_type": "markdown",
   "metadata": {},
   "source": [
    "## ARA ALIŞTIRMA 1\n",
    "\n",
    "1. `araAlistirma1_1.py` dosyasını oluşturun. Bu dosyanın içerisinde aşağıdaki adımları yapın ve sonucu gösterin.\n",
    "   1. `list1` adında bir değişken yarat ve içine 1'den 4889'e kadar değerlerini ata ve ekrana yazdır.\n",
    "   2. `list1` değişkeninin ilk 10 elemanını ekrana yazdır.\n",
    "   3. `list1` değişkeninin son elemanını ekrana yazdır.\n",
    "   4. `list1` değişkeninin 10. elemanını ekrana yazdır.\n",
    "   5. `list1` değişkeninin 10. elemanını 0 yap ve list1'i ekrana yazdır.\n",
    "   6. `list1` değişkeninin son 5 elemanını ekrana yazdır.\n",
    "2. `araAlistirma1_2.py` dosyasını oluşturun. Bu dosyanın içerisinde aşağıdaki adımları yapın ve sonucu gösterin.\n",
    "   1. `list2d_1` adında bir değişkene 1'den 12'e kadar tüm değerleri *3x4* matris oluşturacak şekilde teker teker elemanlarını yazarak ata ve ekrana yazdır.\n",
    "   2. Yukarıdaki işlemi `list2d_2` adında yeni bir değişken için yap ve ekrana yazdır. Bu sefer `range()` fonksiyonunu kullanarak yap."
   ]
  },
  {
   "cell_type": "markdown",
   "metadata": {},
   "source": [
    "## Aritmetik Operatörler\n",
    "\n",
    "Temel olarak 6 adet aritmetik operatör vardır.\n",
    "\n",
    "|**Operatörün Adı**|**İşlevi**|\n",
    "|:---:|:---:|\n",
    "|`+`|Toplama|\n",
    "|`-`|Çıkarma|\n",
    "|`*`|Çarpma|\n",
    "|`/`|Bölme|\n",
    "|`%`|Mod alma|\n",
    "|`**`|Üs alma|\n"
   ]
  },
  {
   "cell_type": "markdown",
   "metadata": {},
   "source": [
    "Aritmetik operatörlerden mod alma dışındaki tüm operatörler sanal sayılar için de geçerlidir."
   ]
  },
  {
   "cell_type": "code",
   "execution_count": null,
   "metadata": {},
   "outputs": [],
   "source": [
    "complex1= comp(2,3) # complex1= 2+3j\n",
    "complex2= comp(4,5) # complex2= 4+5j\n",
    "print(complex1*complex2) # (2+3j)*(4+5j)= -7+22j\n",
    "print(complex1/complex2) # (2+3j)/(4+5j)= 0.5609756097560976+0.04878048780487805j"
   ]
  },
  {
   "cell_type": "markdown",
   "metadata": {},
   "source": [
    "Aşağıdaki özellikler aritmetik operatörlerin metinlere (string) ve listelere (list) için nasıl uygulanacağını göstermektedir.\n",
    "\n",
    "1. Metinler `+` kullanarak toplanabilir. Bu durumda metinler birleştirilir.\n",
    "2. Listeler `+` kullanılarak birleştirilebilir.\n",
    "3. Listeler bir katsayı ile çarpılabilir. Bu durumda listenin her elemanı o katsayı ile **çarpılmaz**. Listeden çarpılan kadar kopya oluşturulur."
   ]
  },
  {
   "cell_type": "code",
   "execution_count": null,
   "metadata": {},
   "outputs": [],
   "source": [
    "str3= \"Hello \"\n",
    "str4= \"World\"\n",
    "print(str3 + str4) # Hello World\n",
    "\n",
    "print(str3 * 3) # Hello Hello Hello\n",
    "\n",
    "list7= [1,2,3]\n",
    "print(list7* 3) # [1, 2, 3, 1, 2, 3, 1, 2, 3]"
   ]
  },
  {
   "cell_type": "code",
   "execution_count": null,
   "metadata": {},
   "outputs": [],
   "source": [
    "print(7%2) # Modunu alma yani 2'ye bölümünden kalan sayı nedir?\n",
    "print(7%5)"
   ]
  },
  {
   "cell_type": "code",
   "execution_count": null,
   "metadata": {},
   "outputs": [],
   "source": [
    "print(2**5) # 2 üzeri 5 = 32."
   ]
  },
  {
   "cell_type": "markdown",
   "metadata": {},
   "source": [
    "> **Dikkat**: Üssü ifadesi alınırken `^` simgesini kullanmayaınız. Python'da `^` işaretinin başka bir anlamı olduğundan dolayı size hata döndürmeyebilir"
   ]
  },
  {
   "cell_type": "markdown",
   "metadata": {},
   "source": [
    "## Mantık İfadeleri\n",
    "Temel olarak 6 adet koşullu ifade vardır.\n",
    "\n",
    "|**Koşullar**|**İşlevi**|\n",
    "|:---:|:---:|\n",
    "|`==`|Eşitlik|\n",
    "|`!=`|Eşit değil|\n",
    "|`>`|Büyüktür|\n",
    "|`<`|Küçüktür|\n",
    "|`>=`|Büyük eşittir|\n",
    "|`<=`|Küçük eşittir|\n",
    "\n",
    "Koşullu ifadelerin sonucu mantıksal (boolean) `True` veya `False` olur."
   ]
  },
  {
   "cell_type": "code",
   "execution_count": null,
   "metadata": {},
   "outputs": [],
   "source": [
    "int5= 5\n",
    "int6= 6\n",
    "float2= 5.0\n",
    "\n",
    "print(int5 == int6) # False\n",
    "print(int5 < int6) # True\n",
    "\n",
    "print(int5 == float2) # True"
   ]
  },
  {
   "cell_type": "markdown",
   "metadata": {},
   "source": [
    "Temel olarak 3 adet mantıksal operatör vardır.\n",
    "\n",
    "|**Mantıksal Operatörler**|**İşlevi**|\n",
    "|:---:|:---:|\n",
    "|`and` (bitwise `&`)|Mantıksal **ve** operatörü.|\n",
    "|`or`  (bitwise `\\|`) |Mantıksal **veya** operatörü.|\n",
    "|`not` (bitwise `~`)|Bir koşulun tersini döner.|\n",
    "\n",
    "Mantıksal ifadelerin sonucu mantıksal (boolean) `True` veya `False` olur.\n",
    "\n",
    "> \"Bitwise\" operatörler, (boolean) için değil tam sayılar (int) için kullanılır. Biz kullanmayacağız."
   ]
  },
  {
   "cell_type": "code",
   "execution_count": null,
   "metadata": {},
   "outputs": [],
   "source": [
    "bool3= 4>3 and 5>3 # True\n",
    "print(bool3)\n",
    "\n",
    "bool4= 4>3 or 5<3 # True\n",
    "print(bool4)\n",
    "\n",
    "bool5= not(4>3 or 5<3) # False\n",
    "print(bool5)\n",
    "\n",
    "print(not 5<3)"
   ]
  },
  {
   "cell_type": "markdown",
   "metadata": {},
   "source": [
    "Yukarıda belirtilmeyen diğer operatörler için [bu linke tıklayınız](https://www.w3schools.com/python/python_operators.asp)."
   ]
  },
  {
   "cell_type": "markdown",
   "metadata": {},
   "source": [
    "## Koşullar\n",
    "\n",
    "`True` veya `False` değerlerine göre programın ilerlemesi değiştirilebilir. Bu değişimi kontrol etmek için `if` kodu kullanılır. Eğer an `if`'den sonra gelen koşul gerçekleşirse `if` altında yazılmış olan kod bloğu çalışmaya başlar. Eğer koşul gerçekleşmezse `if` altında yazılmış olan kod bloğu çalışmaz ve program `if` bloğunun bittiği satıra geçer ve çalışmaya devam eder.\n",
    "\n",
    "Eğer `if` komutundan sonra gelen koşul gerçekleşmez, `else` komutu altında yazılmış olan bir kod bloğu var ise o kod bloğu çalışır. `else` komutu `if` komutundan sonra yazılmalıdır ve `else` komutu tek başına kullanılamaz. \n",
    "\n",
    "Eğer `if` komutundan sonra gelen koşul gerçekleşmezse ve yeni bir koşul daha yazılmak isteniyorsa `elseif` kalıbı kullanılır.\n",
    "\n",
    "Yukarıda yazan tüm komutların sonuna `:` koyulmalıdır."
   ]
  },
  {
   "cell_type": "code",
   "execution_count": null,
   "metadata": {},
   "outputs": [],
   "source": [
    "if 5 > 3:\n",
    "    print(f\"5 3'ten büyüktür. {5 > 3}\")\n",
    "print(\"Bu satır if koşulundan bağımsızdır.\")\n",
    "# ----------------------------\n",
    "if 42 > 111:\n",
    "    print(f\"42 111'den büyüktür. {42 > 111}\")\n",
    "else:\n",
    "    print(f\"42 111'den küçüktür. {not 42 > 111}\")\n",
    "# ----------------------------\n",
    "if 25 > 25:\n",
    "    print(f\"25 25'ten büyüktür. {25 > 25}\")\n",
    "elif 25 < 25:\n",
    "    print(f\"25 25'ten küçüktür. {25 < 25}\")\n",
    "elif 25 == 25:\n",
    "    print(f\"25 25'e eşittir. {25 == 25}\")"
   ]
  },
  {
   "cell_type": "markdown",
   "metadata": {},
   "source": [
    "## Döngüler\n",
    "\n",
    "İki tür temel döngü vardır. Bunlar `for` ve `while` döngüleridir. Bu iki döngü satırının sonunda `:` ifadesi kullanılır ve altında yazılacak olan kod bloğu *4 boşluk* koyularak yazılr.\n",
    "\n",
    "`for` döngüsü için bir yineleyiciye (iterator) ihtiyaç vardır. Bu yineleyicinin sınırları `range()` fonksiyonuyla belirtilir."
   ]
  },
  {
   "cell_type": "code",
   "execution_count": null,
   "metadata": {},
   "outputs": [],
   "source": [
    "for it1 in range(10):\n",
    "    print(it1)"
   ]
  },
  {
   "cell_type": "markdown",
   "metadata": {},
   "source": [
    "`while` döngüsü için bir koşula ihtiyaç vardır. Bu koşul sağlanana kadar döngü içerisinden çıkılmaz. \n",
    "\n",
    "Eğer `while` döngüsünü durduracak bir koşul yazılmazsa program sonsuza kadar çalışır. Eğer bir değişkene atama yapıyorsanız bilgisayarınız kitlenebilir. Biz çoğunlukla `for` döngüsü kullanacağız."
   ]
  },
  {
   "cell_type": "markdown",
   "metadata": {},
   "source": [
    "`break` komutu ile döngüden çıkmak mümkündür. `continue` komutu ile bir sonraki adıma geçilir."
   ]
  },
  {
   "cell_type": "code",
   "execution_count": null,
   "metadata": {},
   "outputs": [],
   "source": [
    "for it2 in range(1,30):\n",
    "    if it2%5 != 0:\n",
    "        print(f\"{it2}, sayısı 5'e bölünmez.\")\n",
    "        continue\n",
    "    else:\n",
    "        print(f\"{it2}, sayısı 5'e bölünür.\")\n",
    "    if it2 > 14:\n",
    "        print(\"Döngü 14'ten sonrası için sonlandı.\")\n",
    "        break"
   ]
  },
  {
   "cell_type": "markdown",
   "metadata": {},
   "source": [
    "## Kullanıcıdan Girişlerin Okunması\n",
    "\n",
    "`input()` Komutunu kullanarak kullanıcı ile etkileşime geçilir. Bu komut içerisine yazılan kısmı ekrana yazıp, kullanıcının cevabını terminalden okur ve istenilen değişkene atar.\n",
    "\n",
    "> `input` komutu ile okunun tüm girdiler \"string\" formatında okunur. Sayıya sonradan çevrilir."
   ]
  },
  {
   "cell_type": "code",
   "execution_count": null,
   "metadata": {},
   "outputs": [],
   "source": [
    "input1 = input(f\"Bir tam sayı giriniz:\")\n",
    "print(f\"Girilen sayı= {input1}\")\n",
    "\n",
    "int1= int(input1)\n",
    "print(f\"Girilen sayının iki katı =  {int1*2}\")"
   ]
  },
  {
   "cell_type": "markdown",
   "metadata": {},
   "source": [
    "## Bir Dosyadan Veri Okuma ve Dosyaya Yazma\n",
    "\n",
    "Bir dosyayı okumak için o dosyayı önce açıp sonra kapatmak gerekmektedir. Eğer bir dosya kod tarafından açılıp ardından kapanmadı ise yapılan işlemler boşa gider. Dosya açıp kapama işlemi `open()` ve `close()` fonksiyonlarıyla yapılır. Ayrıntılı bilgi için [bu linke tıklayınız](https://www.geeksforgeeks.org/reading-writing-text-files-python/).\n",
    "\n",
    "Bir dosyayı `with open()` komutuyla açmak daha kolaydır. Bu komut dosya açıldıktan sonra otomatik olarak kapanır. Ayrıntılı bilgi için [bu linke tıklayınız](https://www.geeksforgeeks.org/with-statement-in-python/). Dosya açıldıktan sonra bir obje oluşturulur. Bu obje üzerinden dosya okunur veya dosyaya yazılır.\n",
    "\n",
    "Dosyayı nasıl açtığımızı belirlemek için `open()` fonksiyonuna bir argüman vermemiz gerekir. Dosyadan okumak için `r` argümanı ile açılmadır. \n",
    "\n",
    "Dosyayı açtıktan sonra içindeki tüm veriyi okumak için `read()` fonksiyonu kullanılır.\n",
    "\n",
    "Dosyadaki veriyi satır satır okuyup liste halinde tutmak için `readlines()` fonksiyonu kullanılır.\n",
    "\n",
    "Dosyadaki veriyi satır satır okumak için `readline()` fonksiyonu kullanılır. Bu fonksiyon her çağrıldığında bir satır okur."
   ]
  },
  {
   "cell_type": "code",
   "execution_count": null,
   "metadata": {},
   "outputs": [],
   "source": [
    "# Bu kodun çalışması için aynı klasörün içerisinde \"denemeVeri.txt\" dosyası olması gerekir.\n",
    "with open(\"../denemeVeri.txt\", \"r\") as asddasd:\n",
    "    print(asddasd.read())"
   ]
  },
  {
   "cell_type": "code",
   "execution_count": null,
   "metadata": {},
   "outputs": [],
   "source": [
    "with open(\"denemeVeri.txt\", \"r\") as file1:\n",
    "    satirlar= file1.readlines() # Satırları okur.\n",
    "# Her satırın sonunda alt satıra geç anlamına gelen '\\n' karakteri vardır.\n",
    "print(satirlar)"
   ]
  },
  {
   "cell_type": "code",
   "execution_count": null,
   "metadata": {},
   "outputs": [],
   "source": [
    "with open(\"denemeVeri.txt\", \"r\") as file1:\n",
    "    satirlar= file1.readlines() # Satırları okur.\n",
    "for satir in satirlar:\n",
    "    print(satir) # Satırları ekrana yazdırır.\n",
    "print(\"--------------------\")\n",
    "# veya\n",
    "for itSatir in range(len(satirlar)):\n",
    "    print(satirlar[itSatir])"
   ]
  },
  {
   "cell_type": "code",
   "execution_count": null,
   "metadata": {},
   "outputs": [],
   "source": [
    "with open(\"denemeVeri.txt\", \"r\") as file1:\n",
    "    print(file1.readline()) # Dosyanın ilk satırını okur. İlk satırın sonunda '\\n' karakteri vardır.\n",
    "    print(file1.readline()) # Dosyanın ikinci satırını okur. İkinci satırın sonunda '\\n' karakteri vardır."
   ]
  },
  {
   "cell_type": "code",
   "execution_count": null,
   "metadata": {},
   "outputs": [],
   "source": [
    "with open(\"denemeVeri.txt\", \"r\") as file1:\n",
    "    a=file1.readline(4)\n",
    "    b=file1.readline(4)\n",
    "    print(a,b) # Dosyanın ilk satırının ilk 5 karakterini okur. İlk satırın sonunda '\\n' karakteri vardır.\n",
    "    "
   ]
  },
  {
   "cell_type": "markdown",
   "metadata": {},
   "source": [
    "Dosyaya yazmak için ise iki farklı yöntem vardır.\n",
    "1. `w` argümanı ile açtığımızda dosya içeriği silinir ve dosyaya yazmaya başlanır. Eğer dosya yoksa yeni bir dosya oluşturulur.\n",
    "2. `a` argümanı ile açtığımızda dosya içeriği silinmez ve dosyaya sondan eklemeye başlar. Eğer dosya yoksa yeni bir dosya oluşturulur.\n",
    "\n",
    "Yazılacak veri `write()` fonksiyonu ile dosyaya yazılır."
   ]
  },
  {
   "cell_type": "code",
   "execution_count": null,
   "metadata": {},
   "outputs": [],
   "source": [
    "# \"w\" modu ile dosya açıldı ve veri yazıldı.\n",
    "with open(\"denemeVeri2.txt\", \"w\") as file2:\n",
    "    file2.write(\"Birinci veri.\\n\")\n",
    "# \"a\" modu ile dosya açıldı ve veri eklendi.\n",
    "with open(\"denemeVeri2.txt\", \"a\") as file2:\n",
    "    file2.write(\"Bu dosyaya yeni bir satır eklendi.\")\n",
    "# İçeriği göster.\n",
    "with open(\"denemeVeri2.txt\", \"r\") as file2:\n",
    "    print(file2.read())\n",
    "\n",
    "# \"w\" modu ile dosya açıldı ve tüm içerik silindi!.\n",
    "with open(\"denemeVeri2.txt\", \"w\") as file2:\n",
    "    file2.write(\"İkinci veri.\")\n",
    "# İçeriği göster.\n",
    "with open(\"denemeVeri2.txt\", \"r\") as file2:\n",
    "    print(file2.read())"
   ]
  },
  {
   "cell_type": "markdown",
   "metadata": {},
   "source": [
    "Diğer dosya açma metodları için [bu linke tıklayınız](https://www.w3schools.com/python/python_file_handling.asp)."
   ]
  },
  {
   "cell_type": "markdown",
   "metadata": {},
   "source": [
    "## Fonksiyonlar\n",
    "\n",
    "Fonksiyonlar bir kod bloğunu tekrar tekrar yazmamızı engeller. Fonksiyonlar yazılırken tıpkı matematikteki fonksiyonlar gibi değişkenler belirlenir ve fonksiyon içerisinde bu değişkenler kullanılır.\n",
    "\n",
    "Fonksiyon oluştururken `def` anahtar kelimesi kullanılır ve en sonuna `:` koyulur.\n",
    "\n",
    "Bir fonksiyon içerisinde yaptığımız işlemden sonra ana koda bir sayı vs. döndürmek istenirse `return` kullanılır.\n",
    "\n",
    "Fonksiyonlar genellikle betiğin başına yazılır. Ana fonksiyon ise altına yazılır. \n",
    "\n",
    "Fonksiyonlar içerisinde tanımlanan değişkenler, fonksiyon dışarısında kullanılamaz.\n",
    "\n",
    "Fonksiyonların çalışması için gereken değişkenine varsayılan (default) bir değer atanabilir. Bunun için fonksiyonu tanımlarken o değişkene bir atama yapılması gerekir. Varsayılan değerler hep sona yazılır."
   ]
  },
  {
   "cell_type": "code",
   "execution_count": 4,
   "metadata": {},
   "outputs": [
    {
     "name": "stdout",
     "output_type": "stream",
     "text": [
      "Merhaba Dünya!\n",
      "55 inç = 139.7 cm' dir.\n",
      "3 cm yarıçaplı bir dairenin alanı 28.260 cm2 dir.\n",
      "DÜNYADA: V0= 0, t= 3, için H=29.400000000000002\n",
      "DÜNYADA: V0= 0, t= 3, için H=29.40\n",
      "AYDA: V0= 0, t=3, g=1.625 için H=4.875\n"
     ]
    }
   ],
   "source": [
    "# Fonksiyon\n",
    "def merhabaDunyaYazdir():\n",
    "    print(\"Merhaba Dünya!\")\n",
    "\n",
    "# Bir değer döndüren fonksiyon\n",
    "def incdenCMye_cevir(var1_inc):\n",
    "    return var1_inc* 2.54\n",
    "\n",
    "# Fonksiyon içerisinde tanımlanan fonksiyonun dışarıda kullanılamaması\n",
    "def cemberinAlani_cm2(r_cm):\n",
    "    pi= 3.14\n",
    "    return pi* r_cm**2\n",
    "\n",
    "# Varsayılan bir değişken içeren fonksiyon\n",
    "def serbestDusme_hizHesapla_m_s(v0_m_s, t_s, g_m_s2= 9.8):\n",
    "    return v0_m_s+ g_m_s2* t_s\n",
    "\n",
    "# Fonksiyonları çağıralım\n",
    "merhabaDunyaYazdir()\n",
    "\n",
    "# --\n",
    "sonuc = incdenCMye_cevir(55)\n",
    "print(\"55 inç = %1.1f cm' dir.\" %sonuc)\n",
    "# --\n",
    "\n",
    "sonuc2= cemberinAlani_cm2(3); print(\"3 cm yarıçaplı bir dairenin alanı %1.3f cm2 dir.\" %sonuc2)\n",
    "# cemberinAlani_cm2() fonksiyonunda pi sayısı tanımlanmıştı. O pi sayısını çağıralım.\n",
    "print(pi) #! ÇALIŞMAYACAK\n",
    "#---\n",
    "\n",
    "baslangictakiHız_m_s=0\n",
    "zaman_s=3\n",
    "sonuc3= serbestDusme_hizHesapla_m_s(baslangictakiHız_m_s, zaman_s)\n",
    "print(f\"DÜNYADA: V0= {baslangictakiHız_m_s}, t= {zaman_s}, için H={sonuc3}\")\n",
    "print(f\"DÜNYADA: V0= {baslangictakiHız_m_s}, t= {zaman_s}, için H={sonuc3:.2f}\") # Değişkenin yanında .2f yazarak virgülden sonra iki basamağı yazılması sağlanır.\n",
    "# --\n",
    "\n",
    "# Bu fonksiyonu Ay koşulları için çağıralım\n",
    "baslangictakiHız_Mer = 0\n",
    "zaman_s = 3\n",
    "g_AY_m_s2= 1.625\n",
    "sonuc4 = serbestDusme_hizHesapla_m_s(baslangictakiHız_Mer, zaman_s, g_AY_m_s2)\n",
    "print(f\"AYDA: V0= {baslangictakiHız_Mer}, t={zaman_s}, g={g_AY_m_s2} için H={sonuc4}\")"
   ]
  },
  {
   "cell_type": "markdown",
   "metadata": {},
   "source": [
    "Kısa ve tek satırlık fonksiyonlar için `lambda` anahtar kelimesi kullanılır. `lambda` değişkeni yazıldıktan sonra boşluk bırakıp değişkenler yazılır ve `:` koyulur. Ardından yazılanlar fonksiyonun işlevini tanımlar. `lambda` fonksiyonlarında `return` kullanılmaz. Otomatik olarak yapılan işlem döndürülür."
   ]
  },
  {
   "cell_type": "code",
   "execution_count": null,
   "metadata": {},
   "outputs": [],
   "source": [
    "kareAl = lambda x: x**2\n",
    "\n",
    "print(\"3^2=\", kareAl(3))"
   ]
  },
  {
   "cell_type": "markdown",
   "metadata": {},
   "source": [
    "## Matematiksel Fonksiyonlar\n",
    "Python içerisinde bulunan (built-in) bazı matematiksel fonksiyolar vardır. Bu fonksiyonlar aşağıdaki gibidir.\n",
    "\n",
    "|**Fonksiyonun Adı**|**İşlevi**|\n",
    "|:---:|:---:|\n",
    "|`abs()`|Mutlak değer|\n",
    "|`round()`|Yuvarlama|\n",
    "|`min()`|En küçük değer|\n",
    "|`max()`|En büyük değer|\n",
    "|`sum()`|Toplam|\n",
    "|`pow()` (veya `**`)|Üs alma|\n",
    "\n",
    "**Not:** Kitapta verilen karşılaştırma fonksiyonu `cmp(a,b)` python 3.0'dan itibaren kaldırılmıştır."
   ]
  },
  {
   "cell_type": "code",
   "execution_count": null,
   "metadata": {},
   "outputs": [],
   "source": [
    "float1= -5.6\n",
    "list1= [1,2,3,4,5]\n",
    "print(\"abs(float1)=\", abs(float1)) # 5.6\n",
    "print(\"round(float1)=\", int(float1)) # -6\n",
    "print(\"min(list1)=\", min(list1)) # 1\n",
    "print(\"max(list1)=\", max(list1)) # 5\n",
    "print(\"sum(list1)=\", sum(list1)) # 15\n",
    "print(\"3^2=\", pow(3,2)) # 9\n",
    "print(\"3^2=\", 3**2) # 9"
   ]
  },
  {
   "cell_type": "markdown",
   "metadata": {},
   "source": [
    "## Modüller\n",
    "\n",
    "Modüller bir dosyadaki fonksiyonları ve değişkenleri başka dosyalarda kullanmamızı sağlar. \n",
    "\n",
    "Modüllerin kullanılması için `import` anahtar kelimesi kullanılır. \n",
    "\n",
    "Modüllerin içerisindeki fonksiyonlar, değişkenler  `.` ile çağrılır. Örneğin `math` modülü içerisindeki `pi` değişkeni `math.pi` şeklinde çağrılır.\n",
    "\n",
    "Modüller betiklerin başında yazılır. Birden fazla modül kullanılacaksa, modüllerin içerisindeki değişkenler ve fonksiyonların karışmaması için `as` anahtar kelimesi kullanılır."
   ]
  },
  {
   "cell_type": "code",
   "execution_count": null,
   "metadata": {},
   "outputs": [],
   "source": [
    "import math as m\n",
    "\n",
    "print(f\"Pi sayısı=  {m.pi}\")\n",
    "print(f\"e sayısı = {m.e}\")\n",
    "print(f\"2^3      = {m.pow(2,3)}\")"
   ]
  },
  {
   "cell_type": "markdown",
   "metadata": {},
   "source": [
    "`math`, `numpy` gibi modüller Python komütesi tarafından geliştirilen modüllerdir. Bunların dışında kendi modüllerimizi de oluşturabiliriz. Bunun için farklı bir dosyada fonksiyonlar ve değişkenler tanımlanır. Bu dosyayı ana betikte `import` anahtar kelimesi kullanılarak çağırıp kullanabiliriz."
   ]
  },
  {
   "cell_type": "markdown",
   "metadata": {},
   "source": [
    "## ARA ALIŞTIRMA 2\n",
    "Aşağıdaki alıştırmaları sırayla yapınız.\n",
    "\n",
    "1. `araAlistirma2_Modul.py` dosyasını oluşturun.\n",
    "   1. Bu dosyaya `al_karesi()` fonksiyonunu tanımlayın. Bu fonksiyon bir sayı alsın ve karesini döndürsün.\n",
    "   2. Bu dosyaya `al_faktoriyel()` fonksiyonunu tanımlayın. Bu fonksiyon bir sayı alsın ve faktöriyelini döndürsün.\n",
    "   3. Bu dosyaya `kredi_mezunOlmakIcinGerekenAKTS` değişkeni tanımlayın. Bu değişkenin değeri mezun olmanız için gereken kredi sayısı olsun.\n",
    "   4. Bu dosyanın içerisinde `if __name__ == \"__main__\":` **bloğu bulunmasın**. Bu blok `araAlistirma2_Modul.py` dosyasının modül değil çalıştırılabilir betik olduğu anlamına gelir.\n",
    "2. Aynı klasörün içerisine `araAlistirma2_Ana.py` dosyası oluşturun.\n",
    "   1. `araAlistirma2_Modul.py` dosyasını çağırın yani `import` edin.\n",
    "   2. Import edilen modüle `denemeModul` adı verin.\n",
    "   3. Bu dosyanın içerisinde `if __name__ == \"__main__\":` **bloğu bulunsun**. Tüm işlemlerinizi `if __name__ == \"__main__\":` ile oluşturduğunuz bloğa yazın.\n",
    "   4. `denemeModul` modülünün içerisindeki `al_karesi()` fonksiyonunu kullanarak 5 sayısının karesini ekrana yazdırın.\n",
    "   5. `denemeModul` modülünün içerisindeki `al_faktoriyel()` fonksiyonunu kullanarak 5 sayısının faktöriyelini ekrana yazdırın.\n",
    "   6. `denemeModul` modülünün içerisindeki `kredi_mezunOlmakIcinGerekenAKTS` değişkenini kullanarak mezun olmanız için gereken kredi sayısını ekrana yazdırın."
   ]
  },
  {
   "cell_type": "markdown",
   "metadata": {},
   "source": [
    "## Öğrenilen Konular\n",
    "1. Python kodlarken uyulması gereken temel kurallar,\n",
    "2. Temel değişkenler (int, float, complex, string),\n",
    "3. Tuple, list,\n",
    "4. Listelerin elemanlarına erişme ve yerine sayılar atama,\n",
    "5. Listeye eleman ekleme,\n",
    "6. Listelerin uzunluğunu bulma,\n",
    "7. İki boyutlu listeler."
   ]
  },
  {
   "cell_type": "markdown",
   "metadata": {},
   "source": [
    "## Kaynaklar\n",
    "\n",
    "- [Jupyter Kısa yolları](https://towardsdatascience.com/jypyter-notebook-shortcuts-bf0101a98330)\n",
    "- [W3Schools](https://www.w3schools.com/python/)\n",
    "- [GeeksForGeeks](https://www.geeksforgeeks.org/python-programming-language/)"
   ]
  }
 ],
 "metadata": {
  "kernelspec": {
   "display_name": "Python 3 (ipykernel)",
   "language": "python",
   "name": "python3"
  },
  "language_info": {
   "codemirror_mode": {
    "name": "ipython",
    "version": 3
   },
   "file_extension": ".py",
   "mimetype": "text/x-python",
   "name": "python",
   "nbconvert_exporter": "python",
   "pygments_lexer": "ipython3",
   "version": "3.10.12"
  },
  "vscode": {
   "interpreter": {
    "hash": "31f2aee4e71d21fbe5cf8b01ff0e069b9275f58929596ceb00d14d90e3e16cd6"
   }
  }
 },
 "nbformat": 4,
 "nbformat_minor": 2
}
